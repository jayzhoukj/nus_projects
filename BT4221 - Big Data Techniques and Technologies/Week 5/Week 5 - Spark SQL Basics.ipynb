{
 "cells": [
  {
   "cell_type": "code",
   "execution_count": 1,
   "metadata": {
    "ExecuteTime": {
     "end_time": "2020-09-13T09:00:01.825342Z",
     "start_time": "2020-09-13T08:59:44.724808Z"
    }
   },
   "outputs": [
    {
     "data": {
      "text/plain": [
       "['SB10001,1000',\n",
       " 'SB10002,1200',\n",
       " 'SB10003,8000',\n",
       " 'SB10004,400',\n",
       " 'SB10005,300',\n",
       " 'SB10006,10000',\n",
       " 'SB10007,500',\n",
       " 'SB10008,56',\n",
       " 'SB10009,30',\n",
       " 'SB10010,7000',\n",
       " 'CR10001,7000',\n",
       " 'SB10002,-10']"
      ]
     },
     "execution_count": 1,
     "metadata": {},
     "output_type": "execute_result"
    }
   ],
   "source": [
    "# Basic\n",
    "import findspark\n",
    "findspark.init()\n",
    "from pyspark import SparkConf, SparkContext\n",
    "from decimal import Decimal\n",
    "conf = SparkConf().setMaster(\"local\").setAppName(\"Bankaccount-SQL\")\n",
    "sc = SparkContext(conf = conf)\n",
    "\n",
    "# Creation of the list from where the RDD is going to be created\n",
    "acTransList = [\"SB10001,1000\", \"SB10002,1200\", \"SB10003,8000\", \"SB10004,400\", \"SB10005,300\", \"SB10006,10000\", \"SB10007,500\", \"SB10008,56\", \"SB10009,30\",\"SB10010,7000\", \"CR10001,7000\", \"SB10002,-10\"]\n",
    "# Create the RDD\n",
    "acTransRDD = sc.parallelize(acTransList)\n",
    "# Collect the values from the RDDs to the driver program\n",
    "acTransRDD.collect()"
   ]
  },
  {
   "cell_type": "code",
   "execution_count": 2,
   "metadata": {
    "ExecuteTime": {
     "end_time": "2020-09-13T09:00:04.293029Z",
     "start_time": "2020-09-13T09:00:01.830329Z"
    }
   },
   "outputs": [],
   "source": [
    "# Apply filter and create another RDD of good transaction records\n",
    "goodTransRecords = acTransRDD.filter(lambda trans: Decimal(trans.split(\",\")[1]) > 0).filter(lambda trans: (trans.split(\",\")[0]).startswith('SB') == True)\n",
    "\n",
    "# Collect the values from the RDDs to the driver program\n",
    "goodTransRecords.collect()\n",
    "\n",
    "# Apply filter and create another RDD of high value transaction records\n",
    "highValueTransRecords = goodTransRecords.filter(lambda trans: Decimal(trans.split(\",\")[1]) > 1000)\n",
    "\n",
    "# Collect the values from the RDDs to the driver program\n",
    "highValueTransRecords.collect()\n",
    "\n",
    "# The function that identifies the bad amounts\n",
    "badAmountLambda = lambda trans: Decimal(trans.split(\",\")[1]) <= 0"
   ]
  },
  {
   "cell_type": "code",
   "execution_count": 3,
   "metadata": {
    "ExecuteTime": {
     "end_time": "2020-09-13T09:00:05.437517Z",
     "start_time": "2020-09-13T09:00:04.297906Z"
    }
   },
   "outputs": [
    {
     "data": {
      "text/plain": [
       "['SB10002,-10']"
      ]
     },
     "execution_count": 3,
     "metadata": {},
     "output_type": "execute_result"
    }
   ],
   "source": [
    "# The function that identifies bad accounts\n",
    "badAcNoLambda = lambda trans: (trans.split(\",\")[0]).startswith('SB') == False\n",
    "# Apply filter and create another RDD of bad amount records\n",
    "badAmountRecords = acTransRDD.filter(badAmountLambda)\n",
    "# Collect the values from the RDDs to the driver program\n",
    "badAmountRecords.collect()"
   ]
  },
  {
   "cell_type": "code",
   "execution_count": 4,
   "metadata": {
    "ExecuteTime": {
     "end_time": "2020-09-13T09:00:07.736939Z",
     "start_time": "2020-09-13T09:00:05.442504Z"
    }
   },
   "outputs": [
    {
     "data": {
      "text/plain": [
       "['SB10002,-10', 'CR10001,7000']"
      ]
     },
     "execution_count": 4,
     "metadata": {},
     "output_type": "execute_result"
    }
   ],
   "source": [
    "# Apply filter and create another RDD of bad account records\n",
    "badAccountRecords = acTransRDD.filter(badAcNoLambda)\n",
    "# Do the union of two RDDs and create another RDD\n",
    "badTransRecords  = badAmountRecords.union(badAccountRecords)\n",
    "# Collect the values from the RDDs to the driver program\n",
    "badTransRecords.collect()"
   ]
  },
  {
   "cell_type": "code",
   "execution_count": 5,
   "metadata": {
    "ExecuteTime": {
     "end_time": "2020-09-13T09:00:08.865259Z",
     "start_time": "2020-09-13T09:00:07.740929Z"
    }
   },
   "outputs": [
    {
     "data": {
      "text/plain": [
       "['CR10001,7000']"
      ]
     },
     "execution_count": 5,
     "metadata": {},
     "output_type": "execute_result"
    }
   ],
   "source": [
    "# Collect the values from the RDDs to the driver program\n",
    "badAccountRecords.collect()"
   ]
  },
  {
   "cell_type": "code",
   "execution_count": 6,
   "metadata": {
    "ExecuteTime": {
     "end_time": "2020-09-13T09:00:09.960743Z",
     "start_time": "2020-09-13T09:00:08.870242Z"
    }
   },
   "outputs": [
    {
     "data": {
      "text/plain": [
       "Decimal('28486')"
      ]
     },
     "execution_count": 6,
     "metadata": {},
     "output_type": "execute_result"
    }
   ],
   "source": [
    "# The function that calculates the sum\n",
    "sumAmount = goodTransRecords.map(lambda trans: Decimal(trans.split(\",\")[1])).reduce(lambda a,b : a+b)\n",
    "sumAmount"
   ]
  },
  {
   "cell_type": "code",
   "execution_count": 7,
   "metadata": {
    "ExecuteTime": {
     "end_time": "2020-09-13T09:00:11.001708Z",
     "start_time": "2020-09-13T09:00:09.963734Z"
    }
   },
   "outputs": [
    {
     "data": {
      "text/plain": [
       "Decimal('10000')"
      ]
     },
     "execution_count": 7,
     "metadata": {},
     "output_type": "execute_result"
    }
   ],
   "source": [
    "# The function that calculates the maximum\n",
    "maxAmount = goodTransRecords.map(lambda trans: Decimal(trans.split(\",\")[1])).reduce(lambda a,b : a if a > b else b)\n",
    "maxAmount"
   ]
  },
  {
   "cell_type": "code",
   "execution_count": 8,
   "metadata": {
    "ExecuteTime": {
     "end_time": "2020-09-13T09:00:12.136631Z",
     "start_time": "2020-09-13T09:00:11.008683Z"
    }
   },
   "outputs": [
    {
     "data": {
      "text/plain": [
       "Decimal('30')"
      ]
     },
     "execution_count": 8,
     "metadata": {},
     "output_type": "execute_result"
    }
   ],
   "source": [
    "# The function that calculates the minimum\n",
    "minAmount = goodTransRecords.map(lambda trans: Decimal(trans.split(\",\")[1])).reduce(lambda a,b : a if a < b else b)\n",
    "minAmount"
   ]
  },
  {
   "cell_type": "code",
   "execution_count": 9,
   "metadata": {
    "ExecuteTime": {
     "end_time": "2020-09-13T09:00:13.454680Z",
     "start_time": "2020-09-13T09:00:12.141619Z"
    }
   },
   "outputs": [
    {
     "data": {
      "text/plain": [
       "['SB10001',\n",
       " '1000',\n",
       " 'SB10002',\n",
       " '1200',\n",
       " 'SB10003',\n",
       " '8000',\n",
       " 'SB10004',\n",
       " '400',\n",
       " 'SB10005',\n",
       " '300',\n",
       " 'SB10006',\n",
       " '10000',\n",
       " 'SB10007',\n",
       " '500',\n",
       " 'SB10008',\n",
       " '56',\n",
       " 'SB10009',\n",
       " '30',\n",
       " 'SB10010',\n",
       " '7000',\n",
       " 'CR10001',\n",
       " '7000',\n",
       " 'SB10002',\n",
       " '-10']"
      ]
     },
     "execution_count": 9,
     "metadata": {},
     "output_type": "execute_result"
    }
   ],
   "source": [
    "# Combine all the elements\n",
    "combineAllElements = acTransRDD.flatMap(lambda trans: trans.split(\",\"))\n",
    "combineAllElements.collect()"
   ]
  },
  {
   "cell_type": "code",
   "execution_count": 10,
   "metadata": {
    "ExecuteTime": {
     "end_time": "2020-09-13T09:00:16.857735Z",
     "start_time": "2020-09-13T09:00:13.458669Z"
    }
   },
   "outputs": [
    {
     "data": {
      "text/plain": [
       "['SB10001',\n",
       " 'SB10002',\n",
       " 'SB10003',\n",
       " 'SB10004',\n",
       " 'SB10005',\n",
       " 'SB10006',\n",
       " 'SB10007',\n",
       " 'SB10008',\n",
       " 'SB10009',\n",
       " 'SB10010']"
      ]
     },
     "execution_count": 10,
     "metadata": {},
     "output_type": "execute_result"
    }
   ],
   "source": [
    "# Find the good account numbers\n",
    "allGoodAccountNos = combineAllElements.filter(lambda trans: trans.startswith('SB') == True)\n",
    "allGoodAccountNos.distinct().collect()"
   ]
  },
  {
   "cell_type": "code",
   "execution_count": 11,
   "metadata": {
    "ExecuteTime": {
     "end_time": "2020-09-13T09:00:20.514407Z",
     "start_time": "2020-09-13T09:00:16.861725Z"
    }
   },
   "outputs": [
    {
     "data": {
      "text/plain": [
       "[('CR10001', Decimal('7000')),\n",
       " ('SB10001', Decimal('1000')),\n",
       " ('SB10002', Decimal('1190')),\n",
       " ('SB10003', Decimal('8000')),\n",
       " ('SB10004', Decimal('400')),\n",
       " ('SB10005', Decimal('300')),\n",
       " ('SB10006', Decimal('10000')),\n",
       " ('SB10007', Decimal('500')),\n",
       " ('SB10008', Decimal('56')),\n",
       " ('SB10009', Decimal('30')),\n",
       " ('SB10010', Decimal('7000'))]"
      ]
     },
     "execution_count": 11,
     "metadata": {},
     "output_type": "execute_result"
    }
   ],
   "source": [
    "# Create the RDD\n",
    "acTransRDD = sc.parallelize(acTransList)\n",
    "# Create the RDD containing key value pairs by doing mapping operation\n",
    "acKeyVal = acTransRDD.map(lambda trans: (trans.split(\",\")[0],Decimal(trans.split(\",\")[1])))\n",
    "# Create the RDD by reducing key value pairs by doing applying sum operation to the values\n",
    "accSummary = acKeyVal.reduceByKey(lambda a,b : a+b).sortByKey()\n",
    "\n",
    "# Collect the values from the RDDs to the driver program\n",
    "accSummary.collect()"
   ]
  },
  {
   "cell_type": "code",
   "execution_count": 12,
   "metadata": {
    "ExecuteTime": {
     "end_time": "2020-09-13T09:00:20.633091Z",
     "start_time": "2020-09-13T09:00:20.520390Z"
    }
   },
   "outputs": [
    {
     "data": {
      "text/plain": [
       "['SB10001,Roger,Federer',\n",
       " 'SB10002,Pete,Sampras',\n",
       " 'SB10003,Rafel,Nadal',\n",
       " 'SB10004,Boris,Becker',\n",
       " 'SB10005,Ivan,Lendl']"
      ]
     },
     "execution_count": 12,
     "metadata": {},
     "output_type": "execute_result"
    }
   ],
   "source": [
    "# Creation of the list from where the RDD is going to be created\n",
    "acMasterList = [\"SB10001,Roger,Federer\", \"SB10002,Pete,Sampras\", \"SB10003,Rafel,Nadal\", \"SB10004,Boris,Becker\", \"SB10005,Ivan,Lendl\"]\n",
    "# Creation of the list from where the RDD is going to be created\n",
    "acBalList = [\"SB10001,50000\", \"SB10002,12000\", \"SB10003,3000\", \"SB10004,8500\", \"SB10005,5000\"]\n",
    "# Create the RDD\n",
    "acMasterRDD = sc.parallelize(acMasterList)\n",
    "# Collect the values to the driver program\n",
    "acMasterRDD.collect()"
   ]
  },
  {
   "cell_type": "code",
   "execution_count": 13,
   "metadata": {
    "ExecuteTime": {
     "end_time": "2020-09-13T09:00:20.703494Z",
     "start_time": "2020-09-13T09:00:20.638072Z"
    }
   },
   "outputs": [
    {
     "data": {
      "text/plain": [
       "['SB10001,50000',\n",
       " 'SB10002,12000',\n",
       " 'SB10003,3000',\n",
       " 'SB10004,8500',\n",
       " 'SB10005,5000']"
      ]
     },
     "execution_count": 13,
     "metadata": {},
     "output_type": "execute_result"
    }
   ],
   "source": [
    "# Create the RDD\n",
    "acBalRDD = sc.parallelize(acBalList)\n",
    "# Collect the values to the driver program\n",
    "acBalRDD.collect()"
   ]
  },
  {
   "cell_type": "code",
   "execution_count": 14,
   "metadata": {
    "ExecuteTime": {
     "end_time": "2020-09-13T09:00:23.063413Z",
     "start_time": "2020-09-13T09:00:20.707484Z"
    }
   },
   "outputs": [
    {
     "data": {
      "text/plain": [
       "[('SB10001', 'Roger Federer'),\n",
       " ('SB10002', 'Pete Sampras'),\n",
       " ('SB10003', 'Rafel Nadal'),\n",
       " ('SB10004', 'Boris Becker'),\n",
       " ('SB10005', 'Ivan Lendl')]"
      ]
     },
     "execution_count": 14,
     "metadata": {},
     "output_type": "execute_result"
    }
   ],
   "source": [
    "# Create account master tuples\n",
    "acMasterTuples = acMasterRDD.map(lambda master: master.split(\",\")).map(lambda masterList: (masterList[0], masterList[1] + \" \" + masterList[2]))\n",
    "# Collect the values to the driver program\n",
    "acMasterTuples.collect()"
   ]
  },
  {
   "cell_type": "code",
   "execution_count": 15,
   "metadata": {
    "ExecuteTime": {
     "end_time": "2020-09-13T09:00:24.771349Z",
     "start_time": "2020-09-13T09:00:23.068401Z"
    }
   },
   "outputs": [
    {
     "data": {
      "text/plain": [
       "[('SB10001', '50000'),\n",
       " ('SB10002', '12000'),\n",
       " ('SB10003', '3000'),\n",
       " ('SB10004', '8500'),\n",
       " ('SB10005', '5000')]"
      ]
     },
     "execution_count": 15,
     "metadata": {},
     "output_type": "execute_result"
    }
   ],
   "source": [
    "# Create balance tuples\n",
    "acBalTuples = acBalRDD.map(lambda trans: trans.split(\",\")).map(lambda transList: (transList[0], transList[1]))\n",
    "# Collect the values to the driver program\n",
    "acBalTuples.collect()"
   ]
  },
  {
   "cell_type": "code",
   "execution_count": 16,
   "metadata": {
    "ExecuteTime": {
     "end_time": "2020-09-13T09:00:37.445036Z",
     "start_time": "2020-09-13T09:00:24.775338Z"
    }
   },
   "outputs": [
    {
     "data": {
      "text/plain": [
       "[('SB10001', 'Roger Federer', '50000'),\n",
       " ('SB10002', 'Pete Sampras', '12000'),\n",
       " ('SB10003', 'Rafel Nadal', '3000'),\n",
       " ('SB10004', 'Boris Becker', '8500'),\n",
       " ('SB10005', 'Ivan Lendl', '5000')]"
      ]
     },
     "execution_count": 16,
     "metadata": {},
     "output_type": "execute_result"
    }
   ],
   "source": [
    "# Join the tuples\n",
    "acJoinTuples = acMasterTuples.join(acBalTuples).sortByKey().map(lambda tran: (tran[0], tran[1][0],tran[1][1]))\n",
    "# Collect the values to the driver program\n",
    "acJoinTuples.collect()"
   ]
  },
  {
   "cell_type": "code",
   "execution_count": 17,
   "metadata": {
    "ExecuteTime": {
     "end_time": "2020-09-13T09:00:39.676662Z",
     "start_time": "2020-09-13T09:00:37.449026Z"
    }
   },
   "outputs": [
    {
     "data": {
      "text/plain": [
       "[('Roger Federer', '50000'),\n",
       " ('Pete Sampras', '12000'),\n",
       " ('Rafel Nadal', '3000'),\n",
       " ('Boris Becker', '8500'),\n",
       " ('Ivan Lendl', '5000')]"
      ]
     },
     "execution_count": 17,
     "metadata": {},
     "output_type": "execute_result"
    }
   ],
   "source": [
    "# ------- Not included Section I in the slide -------\n",
    "# Find the account name and balance\n",
    "acNameAndBalance = acJoinTuples.map(lambda tran: (tran[1],tran[2]))\n",
    "# Collect the values to the driver program\n",
    "acNameAndBalance.collect()"
   ]
  },
  {
   "cell_type": "code",
   "execution_count": 18,
   "metadata": {
    "ExecuteTime": {
     "end_time": "2020-09-13T09:00:40.721088Z",
     "start_time": "2020-09-13T09:00:39.680651Z"
    }
   },
   "outputs": [
    {
     "data": {
      "text/plain": [
       "[(Decimal('50000'), 'SB10001'),\n",
       " (Decimal('12000'), 'SB10002'),\n",
       " (Decimal('8500'), 'SB10004'),\n",
       " (Decimal('5000'), 'SB10005'),\n",
       " (Decimal('3000'), 'SB10003')]"
      ]
     },
     "execution_count": 18,
     "metadata": {},
     "output_type": "execute_result"
    }
   ],
   "source": [
    "# Find the account tuples sorted by amount\n",
    "acTuplesByAmount = acBalTuples.map(lambda tran: (Decimal(tran[1]), tran[0])).sortByKey(False)\n",
    "# Collect the values to the driver program\n",
    "acTuplesByAmount.collect()"
   ]
  },
  {
   "cell_type": "code",
   "execution_count": 19,
   "metadata": {
    "ExecuteTime": {
     "end_time": "2020-09-13T09:00:41.829775Z",
     "start_time": "2020-09-13T09:00:40.725077Z"
    }
   },
   "outputs": [
    {
     "data": {
      "text/plain": [
       "(Decimal('50000'), 'SB10001')"
      ]
     },
     "execution_count": 19,
     "metadata": {},
     "output_type": "execute_result"
    }
   ],
   "source": [
    "# Get the top element\n",
    "acTuplesByAmount.first()"
   ]
  },
  {
   "cell_type": "code",
   "execution_count": 20,
   "metadata": {
    "ExecuteTime": {
     "end_time": "2020-09-13T09:00:42.913707Z",
     "start_time": "2020-09-13T09:00:41.833763Z"
    }
   },
   "outputs": [
    {
     "data": {
      "text/plain": [
       "[(Decimal('50000'), 'SB10001'),\n",
       " (Decimal('12000'), 'SB10002'),\n",
       " (Decimal('8500'), 'SB10004')]"
      ]
     },
     "execution_count": 20,
     "metadata": {},
     "output_type": "execute_result"
    }
   ],
   "source": [
    "# Get the top 3 elements\n",
    "acTuplesByAmount.take(3)"
   ]
  },
  {
   "cell_type": "code",
   "execution_count": 21,
   "metadata": {
    "ExecuteTime": {
     "end_time": "2020-09-13T09:00:43.948553Z",
     "start_time": "2020-09-13T09:00:42.917694Z"
    }
   },
   "outputs": [
    {
     "data": {
      "text/plain": [
       "defaultdict(int,\n",
       "            {'SB10001': 1,\n",
       "             'SB10002': 1,\n",
       "             'SB10003': 1,\n",
       "             'SB10004': 1,\n",
       "             'SB10005': 1})"
      ]
     },
     "execution_count": 21,
     "metadata": {},
     "output_type": "execute_result"
    }
   ],
   "source": [
    "# Count by the key\n",
    "acBalTuples.countByKey()"
   ]
  },
  {
   "cell_type": "code",
   "execution_count": 22,
   "metadata": {
    "ExecuteTime": {
     "end_time": "2020-09-13T09:00:44.998699Z",
     "start_time": "2020-09-13T09:00:43.952543Z"
    }
   },
   "outputs": [
    {
     "data": {
      "text/plain": [
       "5"
      ]
     },
     "execution_count": 22,
     "metadata": {},
     "output_type": "execute_result"
    }
   ],
   "source": [
    "# Count all the records\n",
    "acBalTuples.count()"
   ]
  },
  {
   "cell_type": "code",
   "execution_count": 23,
   "metadata": {
    "ExecuteTime": {
     "end_time": "2020-09-13T09:00:47.025653Z",
     "start_time": "2020-09-13T09:00:45.009669Z"
    }
   },
   "outputs": [],
   "source": [
    "# Print the contents of the account name and balance RDD\n",
    "acNameAndBalance.foreach(print)"
   ]
  },
  {
   "cell_type": "code",
   "execution_count": 24,
   "metadata": {
    "ExecuteTime": {
     "end_time": "2020-09-13T09:00:47.039617Z",
     "start_time": "2020-09-13T09:00:47.030641Z"
    }
   },
   "outputs": [
    {
     "data": {
      "text/plain": [
       "0.0"
      ]
     },
     "execution_count": 24,
     "metadata": {},
     "output_type": "execute_result"
    }
   ],
   "source": [
    "# Find the balance total using accumulator\n",
    "balanceTotal = sc.accumulator(0.0)\n",
    "balanceTotal.value"
   ]
  },
  {
   "cell_type": "code",
   "execution_count": 25,
   "metadata": {
    "ExecuteTime": {
     "end_time": "2020-09-13T09:00:48.075776Z",
     "start_time": "2020-09-13T09:00:47.043606Z"
    }
   },
   "outputs": [
    {
     "data": {
      "text/plain": [
       "78500.0"
      ]
     },
     "execution_count": 25,
     "metadata": {},
     "output_type": "execute_result"
    }
   ],
   "source": [
    "# Do the summation\n",
    "acBalTuples.foreach(lambda bals: balanceTotal.add(float(bals[1])))\n",
    "\n",
    "# Print the results\n",
    "balanceTotal.value"
   ]
  },
  {
   "cell_type": "code",
   "execution_count": 26,
   "metadata": {
    "ExecuteTime": {
     "end_time": "2020-09-13T09:00:48.085746Z",
     "start_time": "2020-09-13T09:00:48.079763Z"
    }
   },
   "outputs": [],
   "source": [
    "# ------ Not included Section I in the slide End -------\n",
    "\n",
    "# To use SQL command.\n",
    "from pyspark.sql import SparkSession\n",
    "from pyspark.sql import Row"
   ]
  },
  {
   "cell_type": "code",
   "execution_count": 27,
   "metadata": {
    "ExecuteTime": {
     "end_time": "2020-09-13T09:00:58.670435Z",
     "start_time": "2020-09-13T09:00:48.089736Z"
    }
   },
   "outputs": [
    {
     "name": "stdout",
     "output_type": "stream",
     "text": [
      "root\n",
      " |-- accNo: string (nullable = true)\n",
      " |-- tranAmount: double (nullable = true)\n",
      "\n",
      "+-------+----------+\n",
      "|  accNo|tranAmount|\n",
      "+-------+----------+\n",
      "|SB10001|    1000.0|\n",
      "|SB10002|    1200.0|\n",
      "|SB10003|    8000.0|\n",
      "|SB10004|     400.0|\n",
      "|SB10005|     300.0|\n",
      "|SB10006|   10000.0|\n",
      "|SB10007|     500.0|\n",
      "|SB10008|      56.0|\n",
      "|SB10009|      30.0|\n",
      "|SB10010|    7000.0|\n",
      "|CR10001|    7000.0|\n",
      "|SB10002|     -10.0|\n",
      "+-------+----------+\n",
      "\n"
     ]
    }
   ],
   "source": [
    "# Creation of the list from where the RDD is going to be created\n",
    "acTransList = [\"SB10001,1000\", \"SB10002,1200\", \"SB10003,8000\", \"SB10004,400\", \"SB10005,300\", \"SB10006,10000\", \"SB10007,500\", \"SB10008,56\", \"SB10009,30\",\"SB10010,7000\", \"CR10001,7000\", \"SB10002,-10\"]\n",
    "spark = SparkSession(sc)\n",
    "\n",
    "acTransDF = sc.parallelize(acTransList).map(lambda trans: trans.split(\",\")).map(lambda p: Row(accNo=p[0], tranAmount=float(p[1]))).toDF()\n",
    "\n",
    "acTransDF.createOrReplaceTempView(\"trans\")\n",
    "\n",
    "# Print the structure of the DataFrame\n",
    "acTransDF.printSchema()\n",
    "# Show the first few records of the DataFrame\n",
    "acTransDF.show()"
   ]
  },
  {
   "cell_type": "code",
   "execution_count": 28,
   "metadata": {
    "ExecuteTime": {
     "end_time": "2020-09-13T09:01:00.772374Z",
     "start_time": "2020-09-13T09:00:58.674423Z"
    }
   },
   "outputs": [
    {
     "name": "stdout",
     "output_type": "stream",
     "text": [
      "+-------+----------+\n",
      "|  accNo|tranAmount|\n",
      "+-------+----------+\n",
      "|SB10001|    1000.0|\n",
      "|SB10002|    1200.0|\n",
      "|SB10003|    8000.0|\n",
      "|SB10004|     400.0|\n",
      "|SB10005|     300.0|\n",
      "|SB10006|   10000.0|\n",
      "|SB10007|     500.0|\n",
      "|SB10008|      56.0|\n",
      "|SB10009|      30.0|\n",
      "|SB10010|    7000.0|\n",
      "+-------+----------+\n",
      "\n"
     ]
    }
   ],
   "source": [
    "# Use SQL to create another DataFrame containing the good transaction records\n",
    "goodTransRecords = spark.sql(\"SELECT accNo, tranAmount FROM trans WHERE accNo like 'SB%' AND tranAmount > 0\")\n",
    "# Register temporary table in the DataFrame for using it in SQL\n",
    "goodTransRecords.createOrReplaceTempView(\"goodtrans\")\n",
    "# Show the first few records of the DataFrame\n",
    "goodTransRecords.show()"
   ]
  },
  {
   "cell_type": "code",
   "execution_count": 29,
   "metadata": {
    "ExecuteTime": {
     "end_time": "2020-09-13T09:01:02.335490Z",
     "start_time": "2020-09-13T09:01:00.777361Z"
    }
   },
   "outputs": [
    {
     "name": "stdout",
     "output_type": "stream",
     "text": [
      "+-------+----------+\n",
      "|  accNo|tranAmount|\n",
      "+-------+----------+\n",
      "|SB10002|    1200.0|\n",
      "|SB10003|    8000.0|\n",
      "|SB10006|   10000.0|\n",
      "|SB10010|    7000.0|\n",
      "+-------+----------+\n",
      "\n"
     ]
    }
   ],
   "source": [
    "# Use SQL to create another DataFrame containing the high value transaction records\n",
    "highValueTransRecords = spark.sql(\"SELECT accNo, tranAmount FROM goodtrans WHERE tranAmount > 1000\")\n",
    "# Show the first few records of the DataFrame\n",
    "highValueTransRecords.show()"
   ]
  },
  {
   "cell_type": "code",
   "execution_count": 30,
   "metadata": {
    "ExecuteTime": {
     "end_time": "2020-09-13T09:01:03.937414Z",
     "start_time": "2020-09-13T09:01:02.339477Z"
    }
   },
   "outputs": [
    {
     "name": "stdout",
     "output_type": "stream",
     "text": [
      "+-------+----------+\n",
      "|  accNo|tranAmount|\n",
      "+-------+----------+\n",
      "|CR10001|    7000.0|\n",
      "+-------+----------+\n",
      "\n"
     ]
    }
   ],
   "source": [
    "# Use SQL to create another DataFrame containing the bad account records\n",
    "badAccountRecords = spark.sql(\"SELECT accNo, tranAmount FROM trans WHERE accNo NOT like 'SB%'\")\n",
    "# Show the first few records of the DataFrame\n",
    "badAccountRecords.show()"
   ]
  },
  {
   "cell_type": "code",
   "execution_count": 31,
   "metadata": {
    "ExecuteTime": {
     "end_time": "2020-09-13T09:01:05.238715Z",
     "start_time": "2020-09-13T09:01:03.941402Z"
    }
   },
   "outputs": [
    {
     "name": "stdout",
     "output_type": "stream",
     "text": [
      "+-------+----------+\n",
      "|  accNo|tranAmount|\n",
      "+-------+----------+\n",
      "|SB10002|     -10.0|\n",
      "+-------+----------+\n",
      "\n"
     ]
    }
   ],
   "source": [
    "# Use SQL to create another DataFrame containing the bad amount records\n",
    "badAmountRecords = spark.sql(\"SELECT accNo, tranAmount FROM trans WHERE tranAmount < 0\")\n",
    "# Show the first few records of the DataFrame\n",
    "badAmountRecords.show()"
   ]
  },
  {
   "cell_type": "code",
   "execution_count": 32,
   "metadata": {
    "ExecuteTime": {
     "end_time": "2020-09-13T09:01:07.808996Z",
     "start_time": "2020-09-13T09:01:05.241708Z"
    }
   },
   "outputs": [
    {
     "name": "stdout",
     "output_type": "stream",
     "text": [
      "+-------+----------+\n",
      "|  accNo|tranAmount|\n",
      "+-------+----------+\n",
      "|CR10001|    7000.0|\n",
      "|SB10002|     -10.0|\n",
      "+-------+----------+\n",
      "\n"
     ]
    }
   ],
   "source": [
    "# Do the union of two DataFrames and create another DataFrame\n",
    "badTransRecords = badAccountRecords.union(badAmountRecords)\n",
    "# Show the first few records of the DataFrame\n",
    "badTransRecords.show()"
   ]
  },
  {
   "cell_type": "code",
   "execution_count": 33,
   "metadata": {
    "ExecuteTime": {
     "end_time": "2020-09-13T09:01:09.508110Z",
     "start_time": "2020-09-13T09:01:07.812984Z"
    }
   },
   "outputs": [
    {
     "name": "stdout",
     "output_type": "stream",
     "text": [
      "+-------+\n",
      "|    sum|\n",
      "+-------+\n",
      "|28486.0|\n",
      "+-------+\n",
      "\n"
     ]
    }
   ],
   "source": [
    "# Calculate the sum\n",
    "sumAmount = spark.sql(\"SELECT sum(tranAmount)as sum FROM goodtrans\")\n",
    "# Show the first few records of the DataFrame\n",
    "sumAmount.show()"
   ]
  },
  {
   "cell_type": "code",
   "execution_count": 34,
   "metadata": {
    "ExecuteTime": {
     "end_time": "2020-09-13T09:01:11.065887Z",
     "start_time": "2020-09-13T09:01:09.512099Z"
    }
   },
   "outputs": [
    {
     "name": "stdout",
     "output_type": "stream",
     "text": [
      "+-------+\n",
      "|    max|\n",
      "+-------+\n",
      "|10000.0|\n",
      "+-------+\n",
      "\n"
     ]
    }
   ],
   "source": [
    "# Calculate the maximum\n",
    "maxAmount = spark.sql(\"SELECT max(tranAmount) as max FROM goodtrans\")\n",
    "# Show the first few records of the DataFrame\n",
    "maxAmount.show()"
   ]
  },
  {
   "cell_type": "code",
   "execution_count": 35,
   "metadata": {
    "ExecuteTime": {
     "end_time": "2020-09-13T09:01:12.398107Z",
     "start_time": "2020-09-13T09:01:11.069878Z"
    }
   },
   "outputs": [
    {
     "name": "stdout",
     "output_type": "stream",
     "text": [
      "+----+\n",
      "| min|\n",
      "+----+\n",
      "|30.0|\n",
      "+----+\n",
      "\n"
     ]
    }
   ],
   "source": [
    "# Calculate the minimum\n",
    "minAmount = spark.sql(\"SELECT min(tranAmount)as min FROM goodtrans\")\n",
    "# Show the first few records of the DataFrame\n",
    "minAmount.show()"
   ]
  },
  {
   "cell_type": "code",
   "execution_count": 36,
   "metadata": {
    "ExecuteTime": {
     "end_time": "2020-09-13T09:01:16.660139Z",
     "start_time": "2020-09-13T09:01:12.401098Z"
    }
   },
   "outputs": [
    {
     "name": "stdout",
     "output_type": "stream",
     "text": [
      "+-------+\n",
      "|  accNo|\n",
      "+-------+\n",
      "|SB10001|\n",
      "|SB10002|\n",
      "|SB10003|\n",
      "|SB10004|\n",
      "|SB10005|\n",
      "|SB10006|\n",
      "|SB10007|\n",
      "|SB10008|\n",
      "|SB10009|\n",
      "|SB10010|\n",
      "+-------+\n",
      "\n"
     ]
    }
   ],
   "source": [
    "# Use SQL to create another DataFrame containing the good account numbers\n",
    "goodAccNos = spark.sql(\"SELECT DISTINCT accNo FROM trans WHERE accNo like 'SB%' ORDER BY accNo\")\n",
    "# Show the first few records of the DataFrame\n",
    "goodAccNos.show()"
   ]
  },
  {
   "cell_type": "code",
   "execution_count": 37,
   "metadata": {
    "ExecuteTime": {
     "end_time": "2020-09-13T09:01:17.829270Z",
     "start_time": "2020-09-13T09:01:16.663132Z"
    }
   },
   "outputs": [
    {
     "name": "stdout",
     "output_type": "stream",
     "text": [
      "+-------+----------+\n",
      "|  accNo|tranAmount|\n",
      "+-------+----------+\n",
      "|SB10002|    1200.0|\n",
      "|SB10003|    8000.0|\n",
      "|SB10006|   10000.0|\n",
      "|SB10010|    7000.0|\n",
      "+-------+----------+\n",
      "\n"
     ]
    }
   ],
   "source": [
    "# Create the DataFrame using API for the high value transaction records\n",
    "highValueTransRecords = goodTransRecords.filter(\"tranAmount > 1000\")\n",
    "# Show the first few records of the DataFrame\n",
    "highValueTransRecords.show()"
   ]
  },
  {
   "cell_type": "code",
   "execution_count": 38,
   "metadata": {
    "ExecuteTime": {
     "end_time": "2020-09-13T09:01:18.997101Z",
     "start_time": "2020-09-13T09:01:17.833266Z"
    }
   },
   "outputs": [
    {
     "name": "stdout",
     "output_type": "stream",
     "text": [
      "+-------+----------+\n",
      "|  accNo|tranAmount|\n",
      "+-------+----------+\n",
      "|CR10001|    7000.0|\n",
      "+-------+----------+\n",
      "\n"
     ]
    }
   ],
   "source": [
    "# Create the DataFrame using API for the bad account records\n",
    "badAccountRecords = acTransDF.filter(\"accNo NOT like 'SB%'\")\n",
    "# Show the first few records of the DataFrame\n",
    "badAccountRecords.show()"
   ]
  },
  {
   "cell_type": "code",
   "execution_count": 39,
   "metadata": {
    "ExecuteTime": {
     "end_time": "2020-09-13T09:01:20.094451Z",
     "start_time": "2020-09-13T09:01:19.001085Z"
    }
   },
   "outputs": [
    {
     "name": "stdout",
     "output_type": "stream",
     "text": [
      "+-------+----------+\n",
      "|  accNo|tranAmount|\n",
      "+-------+----------+\n",
      "|SB10002|     -10.0|\n",
      "+-------+----------+\n",
      "\n"
     ]
    }
   ],
   "source": [
    "# Create the DataFrame using API for the bad amount records\n",
    "badAmountRecords = acTransDF.filter(\"tranAmount < 0\")\n",
    "# Show the first few records of the DataFrame\n",
    "badAmountRecords.show()"
   ]
  },
  {
   "cell_type": "code",
   "execution_count": 40,
   "metadata": {
    "ExecuteTime": {
     "end_time": "2020-09-13T09:01:21.557897Z",
     "start_time": "2020-09-13T09:01:20.098177Z"
    }
   },
   "outputs": [
    {
     "name": "stdout",
     "output_type": "stream",
     "text": [
      "+---------------+\n",
      "|sum(tranAmount)|\n",
      "+---------------+\n",
      "|        28486.0|\n",
      "+---------------+\n",
      "\n"
     ]
    }
   ],
   "source": [
    "# Calculate the sum\n",
    "sumAmount = goodTransRecords.agg({\"tranAmount\": \"sum\"})\n",
    "# Show the first few records of the DataFrame\n",
    "sumAmount.show()"
   ]
  },
  {
   "cell_type": "code",
   "execution_count": 41,
   "metadata": {
    "ExecuteTime": {
     "end_time": "2020-09-13T09:01:22.753768Z",
     "start_time": "2020-09-13T09:01:21.561886Z"
    }
   },
   "outputs": [
    {
     "name": "stdout",
     "output_type": "stream",
     "text": [
      "+---------------+\n",
      "|max(tranAmount)|\n",
      "+---------------+\n",
      "|        10000.0|\n",
      "+---------------+\n",
      "\n"
     ]
    }
   ],
   "source": [
    "# Calculate the maximum\n",
    "maxAmount = goodTransRecords.agg({\"tranAmount\": \"max\"})\n",
    "# Show the first few records of the DataFrame\n",
    "maxAmount.show()"
   ]
  },
  {
   "cell_type": "code",
   "execution_count": 42,
   "metadata": {
    "ExecuteTime": {
     "end_time": "2020-09-13T09:01:23.969076Z",
     "start_time": "2020-09-13T09:01:22.756778Z"
    }
   },
   "outputs": [
    {
     "name": "stdout",
     "output_type": "stream",
     "text": [
      "+---------------+\n",
      "|min(tranAmount)|\n",
      "+---------------+\n",
      "|           30.0|\n",
      "+---------------+\n",
      "\n"
     ]
    }
   ],
   "source": [
    "# Calculate the minimum\n",
    "minAmount = goodTransRecords.agg({\"tranAmount\": \"min\"})\n",
    "# Show the first few records of the DataFrame\n",
    "minAmount.show()"
   ]
  },
  {
   "cell_type": "code",
   "execution_count": 43,
   "metadata": {
    "ExecuteTime": {
     "end_time": "2020-09-13T09:01:23.980047Z",
     "start_time": "2020-09-13T09:01:23.974063Z"
    }
   },
   "outputs": [],
   "source": [
    "from pyspark.sql import SparkSession\n",
    "from pyspark.sql import Row\n",
    "\n",
    "import collections"
   ]
  },
  {
   "cell_type": "code",
   "execution_count": 44,
   "metadata": {
    "ExecuteTime": {
     "end_time": "2020-09-13T09:01:25.409795Z",
     "start_time": "2020-09-13T09:01:23.984037Z"
    }
   },
   "outputs": [],
   "source": [
    "# For windows students\n",
    "spark = SparkSession.builder.config(\"spark.sql.warehouse.dir\", \"file:///C:/temp\").appName(\"SparkSQL\").getOrCreate()\n",
    "\n",
    "def mapper(line):\n",
    "    fields = line.split(',')\n",
    "    return Row(ID=int(fields[0]), name=str(fields[1].encode(\"utf-8\")), age=int(fields[2]), numFriends=int(fields[3]))\n",
    "\n",
    "lines = spark.sparkContext.textFile(\"fakefriends.csv\")\n",
    "\n",
    "people = lines.map(mapper)\n",
    "schemaPeople = spark.createDataFrame(people).cache()\n",
    "schemaPeople.createOrReplaceTempView(\"people\")"
   ]
  },
  {
   "cell_type": "code",
   "execution_count": 45,
   "metadata": {
    "ExecuteTime": {
     "end_time": "2020-09-13T09:01:26.952559Z",
     "start_time": "2020-09-13T09:01:25.413785Z"
    }
   },
   "outputs": [
    {
     "name": "stdout",
     "output_type": "stream",
     "text": [
      "Row(ID=21, name=\"b'Miles'\", age=19, numFriends=268)\n",
      "Row(ID=52, name=\"b'Beverly'\", age=19, numFriends=269)\n",
      "Row(ID=54, name=\"b'Brunt'\", age=19, numFriends=5)\n",
      "Row(ID=106, name=\"b'Beverly'\", age=18, numFriends=499)\n",
      "Row(ID=115, name=\"b'Dukat'\", age=18, numFriends=397)\n",
      "Row(ID=133, name=\"b'Quark'\", age=19, numFriends=265)\n",
      "Row(ID=136, name=\"b'Will'\", age=19, numFriends=335)\n",
      "Row(ID=225, name=\"b'Elim'\", age=19, numFriends=106)\n",
      "Row(ID=304, name=\"b'Will'\", age=19, numFriends=404)\n",
      "Row(ID=341, name=\"b'Data'\", age=18, numFriends=326)\n",
      "Row(ID=366, name=\"b'Keiko'\", age=19, numFriends=119)\n",
      "Row(ID=373, name=\"b'Quark'\", age=19, numFriends=272)\n",
      "Row(ID=377, name=\"b'Beverly'\", age=18, numFriends=418)\n",
      "Row(ID=404, name=\"b'Kasidy'\", age=18, numFriends=24)\n",
      "Row(ID=409, name=\"b'Nog'\", age=19, numFriends=267)\n",
      "Row(ID=439, name=\"b'Data'\", age=18, numFriends=417)\n",
      "Row(ID=444, name=\"b'Keiko'\", age=18, numFriends=472)\n",
      "Row(ID=492, name=\"b'Dukat'\", age=19, numFriends=36)\n",
      "Row(ID=494, name=\"b'Kasidy'\", age=18, numFriends=194)\n"
     ]
    }
   ],
   "source": [
    "teenagers = spark.sql(\"SELECT * FROM people WHERE age >= 13 AND age <= 19\")\n",
    "\n",
    "for teen in teenagers.collect():\n",
    "    print(teen)"
   ]
  },
  {
   "cell_type": "code",
   "execution_count": 46,
   "metadata": {
    "ExecuteTime": {
     "end_time": "2020-09-13T09:01:31.024432Z",
     "start_time": "2020-09-13T09:01:26.956547Z"
    }
   },
   "outputs": [
    {
     "name": "stdout",
     "output_type": "stream",
     "text": [
      "+---+-----+\n",
      "|age|count|\n",
      "+---+-----+\n",
      "| 18|    8|\n",
      "| 19|   11|\n",
      "| 20|    5|\n",
      "| 21|    8|\n",
      "| 22|    7|\n",
      "| 23|   10|\n",
      "| 24|    5|\n",
      "| 25|   11|\n",
      "| 26|   17|\n",
      "| 27|    8|\n",
      "| 28|   10|\n",
      "| 29|   12|\n",
      "| 30|   11|\n",
      "| 31|    8|\n",
      "| 32|   11|\n",
      "| 33|   12|\n",
      "| 34|    6|\n",
      "| 35|    8|\n",
      "| 36|   10|\n",
      "| 37|    9|\n",
      "+---+-----+\n",
      "only showing top 20 rows\n",
      "\n"
     ]
    }
   ],
   "source": [
    "schemaPeople.groupBy(\"age\").count().orderBy(\"age\").show()\n",
    "\n",
    "spark.stop()"
   ]
  }
 ],
 "metadata": {
  "kernelspec": {
   "display_name": "Python 3",
   "language": "python",
   "name": "python3"
  },
  "language_info": {
   "codemirror_mode": {
    "name": "ipython",
    "version": 3
   },
   "file_extension": ".py",
   "mimetype": "text/x-python",
   "name": "python",
   "nbconvert_exporter": "python",
   "pygments_lexer": "ipython3",
   "version": "3.7.6"
  },
  "toc": {
   "base_numbering": 1,
   "nav_menu": {},
   "number_sections": true,
   "sideBar": true,
   "skip_h1_title": false,
   "title_cell": "Table of Contents",
   "title_sidebar": "Contents",
   "toc_cell": false,
   "toc_position": {},
   "toc_section_display": true,
   "toc_window_display": false
  }
 },
 "nbformat": 4,
 "nbformat_minor": 4
}
