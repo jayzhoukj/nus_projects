{
 "cells": [
  {
   "cell_type": "markdown",
   "metadata": {},
   "source": [
    "## Code for Lecture 2"
   ]
  },
  {
   "cell_type": "code",
   "execution_count": 1,
   "metadata": {
    "ExecuteTime": {
     "end_time": "2020-08-27T10:14:25.658070Z",
     "start_time": "2020-08-27T10:14:25.616609Z"
    }
   },
   "outputs": [
    {
     "name": "stdout",
     "output_type": "stream",
     "text": [
      "<class 'int'>\n",
      "3\n",
      "4\n",
      "2\n",
      "6\n",
      "9\n",
      "4\n",
      "8\n",
      "<class 'float'>\n",
      "2.5 3.5 5.0 6.25\n"
     ]
    }
   ],
   "source": [
    "x = 3\n",
    "print(type(x)) # Prints \"<class 'int'>\"\n",
    "print(x)       # Prints \"3\"\n",
    "print(x + 1)   # Addition; prints \"4\"\n",
    "print(x - 1)   # Subtraction; prints \"2\"\n",
    "print(x * 2)   # Multiplication; prints \"6\"\n",
    "print(x ** 2)  # Exponentiation; prints \"9\"\n",
    "x += 1\n",
    "print(x)  # Prints \"4\"\n",
    "x *= 2\n",
    "print(x)  # Prints \"8\"\n",
    "y = 2.5\n",
    "print(type(y)) # Prints \"<class 'float'>\"\n",
    "print(y, y + 1, y * 2, y ** 2) # Prints \"2.5 3.5 5.0 6.25\""
   ]
  },
  {
   "cell_type": "code",
   "execution_count": 2,
   "metadata": {
    "ExecuteTime": {
     "end_time": "2020-08-27T10:14:25.686137Z",
     "start_time": "2020-08-27T10:14:25.671177Z"
    }
   },
   "outputs": [
    {
     "name": "stdout",
     "output_type": "stream",
     "text": [
      "<class 'bool'>\n",
      "False\n",
      "True\n",
      "False\n",
      "True\n"
     ]
    }
   ],
   "source": [
    "t = True\n",
    "f = False\n",
    "print(type(t)) # Prints \"<class 'bool'>\"\n",
    "print(t and f) # Logical AND; prints \"False\"\n",
    "print(t or f)  # Logical OR; prints \"True\"\n",
    "print(not t)   # Logical NOT; prints \"False\"\n",
    "print(t != f)  # Logical XOR; prints \"True\""
   ]
  },
  {
   "cell_type": "code",
   "execution_count": 3,
   "metadata": {
    "ExecuteTime": {
     "end_time": "2020-08-27T10:14:25.708077Z",
     "start_time": "2020-08-27T10:14:25.694120Z"
    }
   },
   "outputs": [
    {
     "name": "stdout",
     "output_type": "stream",
     "text": [
      "hello\n",
      "5\n",
      "hello world\n",
      "hello world 12\n"
     ]
    }
   ],
   "source": [
    "hello = 'hello'    # String literals can use single quotes\n",
    "world = \"world\"    # or double quotes; it does not matter.\n",
    "print(hello)       # Prints \"hello\"\n",
    "print(len(hello))  # String length; prints \"5\"\n",
    "hw = hello + ' ' + world  # String concatenation\n",
    "print(hw)  # prints \"hello world\"\n",
    "hw12 = '%s %s %d' % (hello, world, 12)  # sprintf style string formatting\n",
    "print(hw12)  # prints \"hello world 12\""
   ]
  },
  {
   "cell_type": "code",
   "execution_count": 4,
   "metadata": {
    "ExecuteTime": {
     "end_time": "2020-08-27T10:14:25.734010Z",
     "start_time": "2020-08-27T10:14:25.716060Z"
    }
   },
   "outputs": [
    {
     "name": "stdout",
     "output_type": "stream",
     "text": [
      "Hello\n",
      "HELLO\n",
      "  hello\n",
      " hello \n",
      "he(ell)(ell)o\n",
      "world\n"
     ]
    }
   ],
   "source": [
    "s = \"hello\"\n",
    "print(s.capitalize())  # Capitalize a string; prints \"Hello\"\n",
    "print(s.upper())       # Convert a string to uppercase; prints \"HELLO\"\n",
    "print(s.rjust(7))      # Right-justify a string, padding with spaces; prints \"  hello\"\n",
    "print(s.center(7))     # Center a string, padding with spaces; prints \" hello \"\n",
    "print(s.replace('l', '(ell)'))  # Replace all instances of one substring with another;\n",
    "                                # prints \"he(ell)(ell)o\"\n",
    "print('  world '.strip())  # Strip leading and trailing whitespace; prints \"world\""
   ]
  },
  {
   "cell_type": "code",
   "execution_count": 5,
   "metadata": {
    "ExecuteTime": {
     "end_time": "2020-08-27T10:14:25.754951Z",
     "start_time": "2020-08-27T10:14:25.741987Z"
    }
   },
   "outputs": [
    {
     "name": "stdout",
     "output_type": "stream",
     "text": [
      "kid\n"
     ]
    }
   ],
   "source": [
    "age = 3\n",
    "if age >= 18:\n",
    "    print('adult')\n",
    "elif age >= 6:\n",
    "    print('teenager')\n",
    "else:\n",
    "    print('kid')"
   ]
  },
  {
   "cell_type": "code",
   "execution_count": 6,
   "metadata": {
    "ExecuteTime": {
     "end_time": "2020-08-27T10:14:25.791853Z",
     "start_time": "2020-08-27T10:14:25.760936Z"
    }
   },
   "outputs": [
    {
     "name": "stdout",
     "output_type": "stream",
     "text": [
      "classmates = ['Michael', 'Bob', 'Tracy']\n",
      "len(classmates) = 3\n",
      "classmates[0] = Michael\n",
      "classmates[1] = Bob\n",
      "classmates[2] = Tracy\n",
      "classmates[-1] = Tracy\n",
      "classmates = ['Michael', 'Bob']\n"
     ]
    }
   ],
   "source": [
    "classmates = ['Michael', 'Bob', 'Tracy']\n",
    "print('classmates =', classmates) # classmates = ['Michael', 'Bob', 'Tracy']\n",
    "print('len(classmates) =', len(classmates))  # len(classmates) = 3\n",
    "print('classmates[0] =', classmates[0])# classmates[0] = Michael\n",
    "print('classmates[1] =', classmates[1])\n",
    "print('classmates[2] =', classmates[2])\n",
    "print('classmates[-1] =', classmates[-1]) # classmates[-1] = Tracy\n",
    "classmates.pop()\n",
    "print('classmates =', classmates) # classmates = ['Michael', 'Bob']"
   ]
  },
  {
   "cell_type": "code",
   "execution_count": 7,
   "metadata": {
    "ExecuteTime": {
     "end_time": "2020-08-27T10:14:25.948753Z",
     "start_time": "2020-08-27T10:14:25.795842Z"
    }
   },
   "outputs": [
    {
     "name": "stdout",
     "output_type": "stream",
     "text": [
      "classmates = ('Michael', 'Bob', 'Tracy')\n",
      "len(classmates) = 3\n",
      "classmates[0] = Michael\n"
     ]
    },
    {
     "ename": "TypeError",
     "evalue": "'tuple' object does not support item assignment",
     "output_type": "error",
     "traceback": [
      "\u001b[1;31m---------------------------------------------------------------------------\u001b[0m",
      "\u001b[1;31mTypeError\u001b[0m                                 Traceback (most recent call last)",
      "\u001b[1;32m<ipython-input-7-0c527530e4f2>\u001b[0m in \u001b[0;36m<module>\u001b[1;34m\u001b[0m\n\u001b[0;32m      5\u001b[0m \u001b[1;33m\u001b[0m\u001b[0m\n\u001b[0;32m      6\u001b[0m \u001b[1;31m# cannot modify tuple:\u001b[0m\u001b[1;33m\u001b[0m\u001b[1;33m\u001b[0m\u001b[1;33m\u001b[0m\u001b[0m\n\u001b[1;32m----> 7\u001b[1;33m \u001b[0mclassmates\u001b[0m\u001b[1;33m[\u001b[0m\u001b[1;36m0\u001b[0m\u001b[1;33m]\u001b[0m \u001b[1;33m=\u001b[0m \u001b[1;34m'Adam'\u001b[0m\u001b[1;33m\u001b[0m\u001b[1;33m\u001b[0m\u001b[0m\n\u001b[0m",
      "\u001b[1;31mTypeError\u001b[0m: 'tuple' object does not support item assignment"
     ]
    }
   ],
   "source": [
    "classmates = ('Michael', 'Bob', 'Tracy')\n",
    "print('classmates =', classmates)\n",
    "print('len(classmates) =', len(classmates))\n",
    "print('classmates[0] =', classmates[0])\n",
    "\n",
    "# cannot modify tuple:\n",
    "classmates[0] = 'Adam'"
   ]
  },
  {
   "cell_type": "code",
   "execution_count": 9,
   "metadata": {
    "ExecuteTime": {
     "end_time": "2020-08-27T10:14:32.639652Z",
     "start_time": "2020-08-27T10:14:32.622699Z"
    }
   },
   "outputs": [
    {
     "name": "stdout",
     "output_type": "stream",
     "text": [
      "[0, 1, 2, 3, 4]\n",
      "[2, 3]\n",
      "[2, 3, 4]\n",
      "[0, 1]\n",
      "[0, 1, 2, 3, 4]\n",
      "[0, 1, 2, 3]\n",
      "[0, 1, 8, 9, 4]\n"
     ]
    }
   ],
   "source": [
    "nums = list(range(5))     # range is a built-in function that creates a list of integers\n",
    "print(nums)               # Prints \"[0, 1, 2, 3, 4]\"\n",
    "print(nums[2:4])          # Get a slice from index 2 to 4 (exclusive); prints \"[2, 3]\"\n",
    "print(nums[2:])           # Get a slice from index 2 to the end; prints \"[2, 3, 4]\"\n",
    "print(nums[:2])           # Get a slice from the start to index 2 (exclusive); prints \"[0, 1]\"\n",
    "print(nums[:])            # Get a slice of the whole list; prints \"[0, 1, 2, 3, 4]\"\n",
    "print(nums[:-1])          # Slice indices can be negative; prints \"[0, 1, 2, 3]\"\n",
    "nums[2:4] = [8, 9]        # Assign a new sublist to a slice\n",
    "print(nums)               # Prints \"[0, 1, 8, 9, 4]\""
   ]
  },
  {
   "cell_type": "code",
   "execution_count": 10,
   "metadata": {
    "ExecuteTime": {
     "end_time": "2020-08-27T10:14:33.257948Z",
     "start_time": "2020-08-27T10:14:33.224047Z"
    }
   },
   "outputs": [
    {
     "name": "stdout",
     "output_type": "stream",
     "text": [
      "Michael\n",
      "Bob\n",
      "Tracy\n",
      "0\n",
      "1\n",
      "2\n",
      "3\n",
      "4\n",
      "5\n",
      "6\n",
      "7\n",
      "8\n",
      "9\n",
      "#1: cat\n",
      "#2: dog\n",
      "#3: monkey\n"
     ]
    }
   ],
   "source": [
    "names = ['Michael', 'Bob', 'Tracy']\n",
    "for name in names:\n",
    "    print(name)\n",
    "\n",
    "\n",
    "for x in range(10):\n",
    "    print(x)\n",
    "# prints 0 - 9, each on its own line\n",
    "\n",
    "animals = ['cat', 'dog', 'monkey']\n",
    "for idx, animal in enumerate(animals):\n",
    "    print('#%d: %s' % (idx + 1, animal))\n",
    "# Prints \"#1: cat\", \"#2: dog\", \"#3: monkey\", each on its own line"
   ]
  },
  {
   "cell_type": "code",
   "execution_count": 11,
   "metadata": {
    "ExecuteTime": {
     "end_time": "2020-08-27T10:14:33.664736Z",
     "start_time": "2020-08-27T10:14:33.648779Z"
    }
   },
   "outputs": [
    {
     "name": "stdout",
     "output_type": "stream",
     "text": [
      "5050\n"
     ]
    }
   ],
   "source": [
    "# compute 1+2+...+100\n",
    "sum = 0\n",
    "n = 1\n",
    "while n <= 100:\n",
    "    sum = sum + n\n",
    "    n = n + 1\n",
    "print(sum) # 5050\n",
    "\n"
   ]
  },
  {
   "cell_type": "code",
   "execution_count": 12,
   "metadata": {
    "ExecuteTime": {
     "end_time": "2020-08-27T10:14:34.078540Z",
     "start_time": "2020-08-27T10:14:34.052074Z"
    }
   },
   "outputs": [
    {
     "name": "stdout",
     "output_type": "stream",
     "text": [
      "[0, 1, 4, 9, 16]\n",
      "[0, 4, 16]\n"
     ]
    }
   ],
   "source": [
    "nums = [0, 1, 2, 3, 4]\n",
    "squares = [x ** 2 for x in nums]\n",
    "print(squares)   # Prints [0, 1, 4, 9, 16]\n",
    "\n",
    "even_squares = [x ** 2 for x in nums if x % 2 == 0]\n",
    "print(even_squares)  # Prints \"[0, 4, 16]\""
   ]
  },
  {
   "cell_type": "code",
   "execution_count": 13,
   "metadata": {
    "ExecuteTime": {
     "end_time": "2020-08-27T10:14:34.592279Z",
     "start_time": "2020-08-27T10:14:34.557180Z"
    }
   },
   "outputs": [
    {
     "name": "stdout",
     "output_type": "stream",
     "text": [
      "d['Michael'] = 95\n",
      "d['Bob'] = 75\n",
      "d['Tracy'] = 85\n",
      "d.get('Thomas', -1) = -1\n"
     ]
    }
   ],
   "source": [
    "d = {\n",
    "    'Michael': 95,\n",
    "    'Bob': 75,\n",
    "    'Tracy': 85\n",
    "}\n",
    "print('d[\\'Michael\\'] =', d['Michael']) # d['Michael'] = 95\n",
    "print('d[\\'Bob\\'] =', d['Bob']) # d['Bob'] = 75\n",
    "print('d[\\'Tracy\\'] =', d['Tracy']) # d['Tracy'] = 85\n",
    "print('d.get(\\'Thomas\\', -1) =', d.get('Thomas', -1)) # d.get('Thomas', -1) = -1"
   ]
  },
  {
   "cell_type": "code",
   "execution_count": 14,
   "metadata": {
    "ExecuteTime": {
     "end_time": "2020-08-27T10:14:34.966354Z",
     "start_time": "2020-08-27T10:14:34.954417Z"
    }
   },
   "outputs": [
    {
     "name": "stdout",
     "output_type": "stream",
     "text": [
      "cute\n",
      "True\n",
      "wet\n",
      "N/A\n",
      "wet\n",
      "N/A\n"
     ]
    }
   ],
   "source": [
    "d = {'cat': 'cute', 'dog': 'furry'}  # Create a new dictionary with some data\n",
    "print(d['cat'])       # Get an entry from a dictionary; prints \"cute\"\n",
    "print('cat' in d)     # Check if a dictionary has a given key; prints \"True\"\n",
    "d['fish'] = 'wet'     # Set an entry in a dictionary\n",
    "print(d['fish'])      # Prints \"wet\"\n",
    "# print(d['monkey'])  # KeyError: 'monkey' not a key of d\n",
    "print(d.get('monkey', 'N/A'))  # Get an element with a default; prints \"N/A\"\n",
    "print(d.get('fish', 'N/A'))    # Get an element with a default; prints \"wet\"\n",
    "del d['fish']         # Remove an element from a dictionary\n",
    "print(d.get('fish', 'N/A')) # \"fish\" is no longer a key; prints \"N/A\""
   ]
  },
  {
   "cell_type": "code",
   "execution_count": 15,
   "metadata": {
    "ExecuteTime": {
     "end_time": "2020-08-27T10:14:35.363389Z",
     "start_time": "2020-08-27T10:14:35.345202Z"
    }
   },
   "outputs": [
    {
     "name": "stdout",
     "output_type": "stream",
     "text": [
      "A person has 2 legs\n",
      "A cat has 4 legs\n",
      "A spider has 8 legs\n"
     ]
    }
   ],
   "source": [
    "d = {'person': 2, 'cat': 4, 'spider': 8}\n",
    "for animal, legs in d.items():\n",
    "    print('A %s has %d legs' % (animal, legs))\n",
    "# Prints \"A person has 2 legs\", \"A cat has 4 legs\", \"A spider has 8 legs\""
   ]
  },
  {
   "cell_type": "code",
   "execution_count": 16,
   "metadata": {
    "ExecuteTime": {
     "end_time": "2020-08-27T10:14:35.772618Z",
     "start_time": "2020-08-27T10:14:35.753673Z"
    }
   },
   "outputs": [
    {
     "name": "stdout",
     "output_type": "stream",
     "text": [
      "{0: 0, 2: 4, 4: 16}\n"
     ]
    }
   ],
   "source": [
    "nums = [0, 1, 2, 3, 4]\n",
    "even_num_to_square = {x: x ** 2 for x in nums if x % 2 == 0}\n",
    "print(even_num_to_square)  # Prints \"{0: 0, 2: 4, 4: 16}\""
   ]
  },
  {
   "cell_type": "code",
   "execution_count": 17,
   "metadata": {
    "ExecuteTime": {
     "end_time": "2020-08-27T10:14:36.139707Z",
     "start_time": "2020-08-27T10:14:36.128740Z"
    }
   },
   "outputs": [
    {
     "name": "stdout",
     "output_type": "stream",
     "text": [
      "{1, 2, 3}\n",
      "{2, 3}\n",
      "{1, 2, 3, 4}\n"
     ]
    }
   ],
   "source": [
    "s1 = set([1, 1, 2, 2, 3, 3])\n",
    "print(s1)                   # {1, 2, 3}\n",
    "s2 = set([2, 3, 4])\n",
    "print(s1 & s2)              # {2, 3}\n",
    "print(s1 | s2)              # {1, 2, 3, 4}"
   ]
  },
  {
   "cell_type": "code",
   "execution_count": 18,
   "metadata": {
    "ExecuteTime": {
     "end_time": "2020-08-27T10:14:36.615673Z",
     "start_time": "2020-08-27T10:14:36.582400Z"
    }
   },
   "outputs": [
    {
     "name": "stdout",
     "output_type": "stream",
     "text": [
      "True\n",
      "False\n",
      "True\n",
      "3\n",
      "3\n",
      "2\n"
     ]
    }
   ],
   "source": [
    "animals = {'cat', 'dog'}\n",
    "print('cat' in animals)   # Check if an element is in a set; prints \"True\"\n",
    "print('fish' in animals)  # prints \"False\"\n",
    "animals.add('fish')       # Add an element to a set\n",
    "print('fish' in animals)  # Prints \"True\"\n",
    "print(len(animals))       # Number of elements in a set; prints \"3\"\n",
    "animals.add('cat')        # Adding an element that is already in the set does nothing\n",
    "print(len(animals))       # Prints \"3\"\n",
    "animals.remove('cat')     # Remove an element from a set\n",
    "print(len(animals))       # Prints \"2\""
   ]
  },
  {
   "cell_type": "code",
   "execution_count": 19,
   "metadata": {
    "ExecuteTime": {
     "end_time": "2020-08-27T10:14:36.968447Z",
     "start_time": "2020-08-27T10:14:36.934816Z"
    }
   },
   "outputs": [
    {
     "name": "stdout",
     "output_type": "stream",
     "text": [
      "1\n",
      "1\n",
      "2\n",
      "3\n",
      "5\n",
      "8\n",
      "13\n",
      "21\n",
      "34\n",
      "55\n",
      "55\n",
      "1\n",
      "1\n"
     ]
    }
   ],
   "source": [
    "def fib(n=1): \n",
    "        a , b = 0, 1\n",
    "        for i in range(n):\n",
    "            a, b = b, a + b\n",
    "            print(a)\n",
    "        return a\n",
    "\n",
    "print(fib(10))  # print 55 \n",
    "print(fib())     # print 1"
   ]
  },
  {
   "cell_type": "code",
   "execution_count": 20,
   "metadata": {
    "ExecuteTime": {
     "end_time": "2020-08-27T10:14:37.348846Z",
     "start_time": "2020-08-27T10:14:37.318412Z"
    }
   },
   "outputs": [
    {
     "name": "stdout",
     "output_type": "stream",
     "text": [
      "0.8913779486805862\n",
      "6.553027195991998\n",
      "0.013591565964913269\n",
      "9\n",
      "[10, 30, 20, 50]\n",
      "[10, 50, 30, 40]\n"
     ]
    }
   ],
   "source": [
    "import random as rd\n",
    "print(rd.random())                             # Random float:  0.0 <= x < 1.0\n",
    "print(rd.uniform(2.5, 10.0) )                  # Random float:  2.5 <= x < 10.0\n",
    "print(rd.gauss(0, 1))                          # Random float: Normal(0,1)\n",
    "print(rd.randrange(10) )                       # Integer from 0 to 9 inclusive\n",
    "print(rd.sample([10, 20, 30, 40, 50], k=4) )   # Four samples without replacement\n",
    "print(rd.choices([10, 20, 30, 40, 50], k=4) )  # Four samples with replacement"
   ]
  },
  {
   "cell_type": "code",
   "execution_count": 21,
   "metadata": {
    "ExecuteTime": {
     "end_time": "2020-08-27T10:14:37.798209Z",
     "start_time": "2020-08-27T10:14:37.767318Z"
    }
   },
   "outputs": [
    {
     "name": "stdout",
     "output_type": "stream",
     "text": [
      "Values inside the function before change:  [10, 20, 30]\n",
      "Values inside the function after change:  [10, 20, 50]\n",
      "Values outside the function:  [10, 20, 50]\n"
     ]
    }
   ],
   "source": [
    "def changeme( mylist ):\n",
    "    # \"This changes a passed list into this function\"\n",
    "    print (\"Values inside the function before change: \", mylist)\n",
    "    mylist[2]=50\n",
    "    print (\"Values inside the function after change: \", mylist)\n",
    "    return\n",
    "\n",
    "# Now you can call changeme function\n",
    "mylist = [10,20,30]\n",
    "changeme( mylist )\n",
    "print (\"Values outside the function: \", mylist)"
   ]
  },
  {
   "cell_type": "code",
   "execution_count": 22,
   "metadata": {
    "ExecuteTime": {
     "end_time": "2020-08-27T10:14:38.185485Z",
     "start_time": "2020-08-27T10:14:38.164540Z"
    }
   },
   "outputs": [
    {
     "name": "stdout",
     "output_type": "stream",
     "text": [
      "-2.4492935982947064e-16\n"
     ]
    }
   ],
   "source": [
    "import math\n",
    "a = math.sin(2 * math.pi)\n",
    "print(a)"
   ]
  },
  {
   "cell_type": "code",
   "execution_count": 23,
   "metadata": {
    "ExecuteTime": {
     "end_time": "2020-08-27T10:14:38.646210Z",
     "start_time": "2020-08-27T10:14:38.612206Z"
    }
   },
   "outputs": [
    {
     "name": "stdout",
     "output_type": "stream",
     "text": [
      "This is the first line.\n",
      "\n",
      "This is the second line.\n",
      "\n",
      "This is the third line.Python is great\n",
      "\n",
      "Python is great\n",
      "\n"
     ]
    }
   ],
   "source": [
    "import os\n",
    "\n",
    "f = open(os.getcwd()+'/data.txt', 'r') \n",
    "for line in f.readlines():\n",
    "    print(line) \n",
    "f.close()"
   ]
  },
  {
   "cell_type": "code",
   "execution_count": 24,
   "metadata": {
    "ExecuteTime": {
     "end_time": "2020-08-27T10:14:39.108593Z",
     "start_time": "2020-08-27T10:14:39.070700Z"
    }
   },
   "outputs": [
    {
     "name": "stdout",
     "output_type": "stream",
     "text": [
      "This is th\n",
      "******************\n",
      "e first li\n",
      "******************\n",
      "ne.\n",
      "This i\n",
      "******************\n",
      "s the seco\n",
      "******************\n",
      "nd line.\n",
      "T\n",
      "******************\n",
      "his is the\n",
      "******************\n",
      " third lin\n",
      "******************\n",
      "e.Python i\n",
      "******************\n",
      "s great\n",
      "Py\n",
      "******************\n",
      "thon is gr\n",
      "******************\n",
      "eat\n",
      "\n",
      "******************\n",
      "\n",
      "******************\n"
     ]
    }
   ],
   "source": [
    "f = open(os.getcwd()+'/data.txt', 'r') \n",
    "while True:\n",
    "    s=f.read(10)\n",
    "    print(s)\n",
    "    print('******************')\n",
    "    if not s:\n",
    "        break\n",
    "f.close()"
   ]
  },
  {
   "cell_type": "code",
   "execution_count": 25,
   "metadata": {
    "ExecuteTime": {
     "end_time": "2020-08-27T10:14:39.673228Z",
     "start_time": "2020-08-27T10:14:39.650150Z"
    }
   },
   "outputs": [
    {
     "name": "stdout",
     "output_type": "stream",
     "text": [
      "This is the first line.\n",
      "\n",
      "This is the second line.\n",
      "\n",
      "This is the third line.Python is great\n",
      "\n",
      "Python is great\n",
      "\n"
     ]
    }
   ],
   "source": [
    "with open(os.getcwd()+'/data.txt', 'r') as f: \n",
    "    # you may change the path to read the file\n",
    "    for line in f.readlines():\n",
    "        print(line) \n"
   ]
  },
  {
   "cell_type": "code",
   "execution_count": 26,
   "metadata": {
    "ExecuteTime": {
     "end_time": "2020-08-27T10:14:40.404056Z",
     "start_time": "2020-08-27T10:14:40.385108Z"
    }
   },
   "outputs": [],
   "source": [
    "with open(os.getcwd()+'/data.txt', 'a+') as f: \n",
    "    f.write('Python is great\\n')"
   ]
  },
  {
   "cell_type": "code",
   "execution_count": 27,
   "metadata": {
    "ExecuteTime": {
     "end_time": "2020-08-27T10:14:41.254120Z",
     "start_time": "2020-08-27T10:14:41.181314Z"
    }
   },
   "outputs": [
    {
     "name": "stdout",
     "output_type": "stream",
     "text": [
      "This is the first line.\n",
      "This is the second line.\n",
      "This is the third line.Python is great\n",
      "Python is great\n",
      "Python is great\n"
     ]
    }
   ],
   "source": [
    "with open(os.getcwd()+'/data.txt', 'r') as f: \n",
    "    for line in f.readlines():\n",
    "        print(line.strip()) # delete \"\\n\" at the rail\n",
    "        "
   ]
  },
  {
   "cell_type": "code",
   "execution_count": 28,
   "metadata": {
    "ExecuteTime": {
     "end_time": "2020-08-27T10:14:42.407196Z",
     "start_time": "2020-08-27T10:14:42.379033Z"
    }
   },
   "outputs": [
    {
     "name": "stdout",
     "output_type": "stream",
     "text": [
      "start node,end node,link length\n",
      "1,2,2\n",
      "1,3,4.5\n",
      "2,3,6\n",
      "2,4,3\n",
      "3,4,5\n",
      "1,2,2\n",
      "1,3,4.5\n",
      "2,3,6\n",
      "2,4,3\n",
      "3,4,5\n"
     ]
    }
   ],
   "source": [
    "with open(os.getcwd()+'/data.csv', 'r') as f: \n",
    "    for line in f.readlines():\n",
    "        print(line.strip()) # delete \"\\n\" at the rail\n",
    "        "
   ]
  },
  {
   "cell_type": "code",
   "execution_count": 29,
   "metadata": {
    "ExecuteTime": {
     "end_time": "2020-08-27T10:14:43.319739Z",
     "start_time": "2020-08-27T10:14:43.296299Z"
    }
   },
   "outputs": [
    {
     "name": "stdout",
     "output_type": "stream",
     "text": [
      "start node,end node,link length\n",
      "1,2,2\n",
      "1,3,4.5\n",
      "2,3,6\n",
      "2,4,3\n",
      "3,4,5\n",
      "1,2,2\n",
      "1,3,4.5\n",
      "2,3,6\n",
      "2,4,3\n",
      "3,4,5\n"
     ]
    }
   ],
   "source": [
    "with open(os.getcwd()+'/data.csv', 'r') as f: \n",
    "    print(f.read())"
   ]
  },
  {
   "cell_type": "code",
   "execution_count": 30,
   "metadata": {
    "ExecuteTime": {
     "end_time": "2020-08-27T10:14:44.069236Z",
     "start_time": "2020-08-27T10:14:44.020821Z"
    }
   },
   "outputs": [
    {
     "name": "stdout",
     "output_type": "stream",
     "text": [
      "start node,end node,link length\n",
      "['1', '2', '2']\n",
      "['1', '3', '4.5']\n",
      "['2', '3', '6']\n",
      "['2', '4', '3']\n",
      "['3', '4', '5']\n",
      "['1', '2', '2']\n",
      "['1', '3', '4.5']\n",
      "['2', '3', '6']\n",
      "['2', '4', '3']\n",
      "['3', '4', '5']\n",
      "11\n"
     ]
    }
   ],
   "source": [
    "import csv\n",
    "\n",
    "with open(os.getcwd()+'/data.csv') as csv_file:\n",
    "    csv_reader = csv.reader(csv_file, delimiter=',')\n",
    "    line_count = 0\n",
    "    for row in csv_reader:\n",
    "        if line_count == 0:\n",
    "            print(','.join(row))\n",
    "            line_count += 1\n",
    "        else:\n",
    "            print(row)\n",
    "            line_count += 1\n",
    "    print(line_count)\n"
   ]
  },
  {
   "cell_type": "code",
   "execution_count": 31,
   "metadata": {
    "ExecuteTime": {
     "end_time": "2020-08-27T10:14:44.690173Z",
     "start_time": "2020-08-27T10:14:44.664225Z"
    }
   },
   "outputs": [],
   "source": [
    "with open('employee_file.csv', mode='w') as employee_file:\n",
    "    employee_writer = csv.writer(employee_file, delimiter=',', quotechar='\"', quoting=csv.QUOTE_MINIMAL)\n",
    "\n",
    "    employee_writer.writerow(['John Smith', 'Accounting', 'November'])\n",
    "    employee_writer.writerow(['Erica Meyers', 'IT', 'March'])"
   ]
  },
  {
   "cell_type": "code",
   "execution_count": 33,
   "metadata": {
    "ExecuteTime": {
     "end_time": "2020-08-27T10:15:04.491705Z",
     "start_time": "2020-08-27T10:15:04.430301Z"
    }
   },
   "outputs": [
    {
     "name": "stdout",
     "output_type": "stream",
     "text": [
      "start node,end node,link length\n",
      "['1', '2', '2']\n",
      "['1', '3', '4.5']\n",
      "['2', '3', '6']\n",
      "['2', '4', '3']\n",
      "['3', '4', '5']\n",
      "['1', '2', '2']\n",
      "['1', '3', '4.5']\n",
      "['2', '3', '6']\n",
      "['2', '4', '3']\n",
      "['3', '4', '5']\n",
      "11\n",
      "{(0, 0): 1.0, (0, 1): 2.0, (0, 2): 2.0, (1, 0): 1.0, (1, 1): 3.0, (1, 2): 4.5, (2, 0): 2.0, (2, 1): 3.0, (2, 2): 6.0, (3, 0): 2.0, (3, 1): 4.0, (3, 2): 3.0, (4, 0): 3.0, (4, 1): 4.0, (4, 2): 5.0, (5, 0): 1.0, (5, 1): 2.0, (5, 2): 2.0, (6, 0): 1.0, (6, 1): 3.0, (6, 2): 4.5, (7, 0): 2.0, (7, 1): 3.0, (7, 2): 6.0, (8, 0): 2.0, (8, 1): 4.0, (8, 2): 3.0, (9, 0): 3.0, (9, 1): 4.0, (9, 2): 5.0}\n"
     ]
    }
   ],
   "source": [
    "with open(os.getcwd()+'/data.csv') as csv_file:\n",
    "    csv_reader = csv.reader(csv_file, delimiter=',')\n",
    "    line_count = 0\n",
    "    data={}\n",
    "    i=0\n",
    "    j=0\n",
    "    for row in csv_reader:\n",
    "        if line_count == 0:\n",
    "            print(','.join(row))\n",
    "            line_count += 1\n",
    "        else:\n",
    "            for j in range(len(row)):\n",
    "                data[i,j]=float(row[j])\n",
    "            i=i+1\n",
    "            print(row)\n",
    "            line_count += 1\n",
    "    print(line_count)\n",
    "    print(data)"
   ]
  },
  {
   "cell_type": "code",
   "execution_count": 34,
   "metadata": {
    "ExecuteTime": {
     "end_time": "2020-08-27T10:15:06.870472Z",
     "start_time": "2020-08-27T10:15:06.156236Z"
    }
   },
   "outputs": [
    {
     "name": "stdout",
     "output_type": "stream",
     "text": [
      "<class 'numpy.ndarray'>\n",
      "(3,)\n",
      "1 2 3\n",
      "[5 2 3]\n",
      "(2, 3)\n",
      "1 2 4\n"
     ]
    }
   ],
   "source": [
    "import numpy as np\n",
    "\n",
    "a = np.array([1, 2, 3])   # Create a rank 1 array\n",
    "print(type(a))            # Prints \"<class 'numpy.ndarray'>\"\n",
    "print(a.shape)            # Prints \"(3,)\"\n",
    "print(a[0], a[1], a[2])   # Prints \"1 2 3\"\n",
    "a[0] = 5                  # Change an element of the array\n",
    "print(a)                  # Prints \"[5, 2, 3]\"\n",
    "\n",
    "b = np.array([[1,2,3],[4,5,6]])    # Create a rank 2 array\n",
    "print(b.shape)                     # Prints \"(2, 3)\"\n",
    "print(b[0, 0], b[0, 1], b[1, 0])   # Prints \"1 2 4\""
   ]
  },
  {
   "cell_type": "code",
   "execution_count": 35,
   "metadata": {
    "ExecuteTime": {
     "end_time": "2020-08-27T10:15:06.901360Z",
     "start_time": "2020-08-27T10:15:06.874432Z"
    }
   },
   "outputs": [
    {
     "name": "stdout",
     "output_type": "stream",
     "text": [
      "[[0. 0.]\n",
      " [0. 0.]]\n",
      "[[1. 1.]]\n",
      "[[7 7]\n",
      " [7 7]]\n",
      "[[1. 0.]\n",
      " [0. 1.]]\n",
      "[[0.98401829 0.14059861]\n",
      " [0.18967367 0.93891454]]\n"
     ]
    }
   ],
   "source": [
    "import numpy as np\n",
    "\n",
    "a = np.zeros((2,2))   # Create an array of all zeros\n",
    "print(a)              # Prints \"[[ 0.  0.]\n",
    "                      #          [ 0.  0.]]\"\n",
    "\n",
    "b = np.ones((1,2))    # Create an array of all ones\n",
    "print(b)              # Prints \"[[ 1.  1.]]\"\n",
    "\n",
    "c = np.full((2,2), 7)  # Create a constant array\n",
    "print(c)               # Prints \"[[ 7.  7.]\n",
    "                       #          [ 7.  7.]]\"\n",
    "\n",
    "d = np.eye(2)         # Create a 2x2 identity matrix\n",
    "print(d)              # Prints \"[[ 1.  0.]\n",
    "                      #          [ 0.  1.]]\"\n",
    "\n",
    "e = np.random.random((2,2))  # Create an array filled with random values\n",
    "print(e)                     # Might print \"[[0.2119564  0.65970294]\n",
    "                             #             [0.82106931 0.45964519]]\""
   ]
  },
  {
   "cell_type": "code",
   "execution_count": null,
   "metadata": {},
   "outputs": [],
   "source": []
  },
  {
   "cell_type": "code",
   "execution_count": 36,
   "metadata": {
    "ExecuteTime": {
     "end_time": "2020-08-27T10:15:07.619488Z",
     "start_time": "2020-08-27T10:15:07.602540Z"
    },
    "scrolled": true
   },
   "outputs": [
    {
     "name": "stdout",
     "output_type": "stream",
     "text": [
      "[3, 4]\n",
      "[3, 4]\n"
     ]
    }
   ],
   "source": [
    "a = [[1,2],[3,4]]\n",
    "print(a[1])\n",
    "print(a[1][:])"
   ]
  },
  {
   "cell_type": "code",
   "execution_count": 37,
   "metadata": {
    "ExecuteTime": {
     "end_time": "2020-08-27T10:15:07.968408Z",
     "start_time": "2020-08-27T10:15:07.953520Z"
    },
    "scrolled": true
   },
   "outputs": [
    {
     "name": "stdout",
     "output_type": "stream",
     "text": [
      "6\n",
      "(2, 3)\n",
      "[[1 2 3]\n",
      " [4 5 6]]\n",
      "4\n",
      "[4 5 6]\n",
      "[4 5 6]\n",
      "[1 4]\n",
      "[[1 4]\n",
      " [2 5]\n",
      " [3 6]]\n"
     ]
    }
   ],
   "source": [
    "A = np.array([[1,2,3],[4,5,6]])\n",
    "print(A.size)                 # 6\n",
    "print(A.shape)                # (2,3)\n",
    "print(A)                      # [[1 2 3]\n",
    "                              # [4 5 6]]\n",
    "print(A[1,0])                 # 4\n",
    "print(A[1])                   # [4 5 6]\n",
    "print(A[-1])                  # [4 5 6]\n",
    "print(A[:,0])                 # [1 4]\n",
    "print(A.T)                    # [[1 4]\n",
    "                              #  [2 5]\n",
    "                              #  [3 6]]"
   ]
  },
  {
   "cell_type": "code",
   "execution_count": 38,
   "metadata": {
    "ExecuteTime": {
     "end_time": "2020-08-27T10:15:08.355440Z",
     "start_time": "2020-08-27T10:15:08.300588Z"
    }
   },
   "outputs": [
    {
     "name": "stdout",
     "output_type": "stream",
     "text": [
      "50\n",
      "[ 7 16 27]\n",
      "50\n",
      "50\n",
      "[[ 7  8  9]\n",
      " [14 16 18]\n",
      " [21 24 27]]\n",
      "[[ 7 14 21]\n",
      " [ 8 16 24]\n",
      " [ 9 18 27]]\n",
      "[14 32]\n",
      "[14 32]\n"
     ]
    }
   ],
   "source": [
    "a = np.array([1,2,3])\n",
    "c = np.array([7,8,9])\n",
    "print(a.dot(c))       # 50\n",
    "print(a * c)          # [ 7 16 27]\n",
    "print(a.T.dot(c))     # 50\n",
    "print(np.dot(a, c))   # 50\n",
    "print(np.outer(a,c))  # [[ 7  8  9]\n",
    "                      #  [14 16 18]\n",
    "                      #  [21 24 27]]\n",
    "\n",
    "print(np.outer(c,a))  # [[ 7 14 21]\n",
    "                      #  [ 8 16 24]\n",
    "                      #  [ 9 18 27]]\n",
    "\n",
    "print(A.dot(a))       # [13 13  6]\n",
    "print(a.dot(A.T))     # [13 13  6]"
   ]
  },
  {
   "cell_type": "code",
   "execution_count": 39,
   "metadata": {
    "ExecuteTime": {
     "end_time": "2020-08-27T10:15:08.775628Z",
     "start_time": "2020-08-27T10:15:08.658368Z"
    }
   },
   "outputs": [
    {
     "name": "stdout",
     "output_type": "stream",
     "text": [
      "[[ 0.  1. -2.]\n",
      " [ 1.  1. -4.]\n",
      " [-1. -2.  7.]]\n",
      "[[1. 0. 0.]\n",
      " [0. 1. 0.]\n",
      " [0. 0. 1.]]\n"
     ]
    }
   ],
   "source": [
    "A = np.array([[1,3,2],[3,2,2],[1,1,1]])\n",
    "B = np.linalg.inv(A)\n",
    "print(B)\n",
    "print(A.dot(B) )"
   ]
  },
  {
   "cell_type": "code",
   "execution_count": 40,
   "metadata": {
    "ExecuteTime": {
     "end_time": "2020-08-27T10:15:09.015943Z",
     "start_time": "2020-08-27T10:15:08.999448Z"
    }
   },
   "outputs": [
    {
     "name": "stdout",
     "output_type": "stream",
     "text": [
      "[ 2.  2. -3.]\n",
      "[2. 4. 1.]\n"
     ]
    }
   ],
   "source": [
    "b = np.array([2,4,1])\n",
    "x = np.linalg.solve(A,b)\n",
    "print(x)\n",
    "print(A.dot(x))"
   ]
  },
  {
   "cell_type": "markdown",
   "metadata": {},
   "source": [
    "$AV = VD$ "
   ]
  },
  {
   "cell_type": "code",
   "execution_count": 41,
   "metadata": {
    "ExecuteTime": {
     "end_time": "2020-08-27T10:15:09.977439Z",
     "start_time": "2020-08-27T10:15:09.909416Z"
    }
   },
   "outputs": [
    {
     "name": "stdout",
     "output_type": "stream",
     "text": [
      "-1.0\n",
      "[[ 5.43745406  0.          0.        ]\n",
      " [ 0.         -1.55567275  0.        ]\n",
      " [ 0.          0.          0.11821869]]\n",
      "[[-0.62369401 -0.77955319 -0.2551398 ]\n",
      " [-0.7205792   0.6233466  -0.48330607]\n",
      " [-0.30293794  0.06112151  0.83744786]]\n",
      "False\n",
      "True\n"
     ]
    }
   ],
   "source": [
    "print(np.linalg.det(A))\n",
    "d, V = np.linalg.eig(A) \n",
    "D = np.diag(d)\n",
    "# d is the eigenvalues of A，each column of V is a eigenvector of A\n",
    "print(D)\n",
    "print(V)\n",
    "print(np.array_equal( V.dot(D), A.dot(V) ) ) \n",
    "# In theroy, AV=VD\n",
    "print(np.allclose( V.dot(D), A.dot(V) ) ) "
   ]
  },
  {
   "cell_type": "code",
   "execution_count": null,
   "metadata": {},
   "outputs": [],
   "source": []
  }
 ],
 "metadata": {
  "kernelspec": {
   "display_name": "Python 3",
   "language": "python",
   "name": "python3"
  },
  "language_info": {
   "codemirror_mode": {
    "name": "ipython",
    "version": 3
   },
   "file_extension": ".py",
   "mimetype": "text/x-python",
   "name": "python",
   "nbconvert_exporter": "python",
   "pygments_lexer": "ipython3",
   "version": "3.7.6"
  },
  "toc": {
   "base_numbering": 1,
   "nav_menu": {},
   "number_sections": true,
   "sideBar": true,
   "skip_h1_title": false,
   "title_cell": "Table of Contents",
   "title_sidebar": "Contents",
   "toc_cell": false,
   "toc_position": {},
   "toc_section_display": true,
   "toc_window_display": false
  }
 },
 "nbformat": 4,
 "nbformat_minor": 2
}
