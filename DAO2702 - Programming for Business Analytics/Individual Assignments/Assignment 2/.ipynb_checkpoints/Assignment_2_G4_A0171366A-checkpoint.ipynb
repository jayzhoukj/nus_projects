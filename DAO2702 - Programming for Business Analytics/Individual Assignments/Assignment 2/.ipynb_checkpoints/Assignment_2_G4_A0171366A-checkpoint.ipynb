{
 "cells": [
  {
   "cell_type": "code",
   "execution_count": 1,
   "metadata": {},
   "outputs": [],
   "source": [
    "%matplotlib inline\n",
    "import numpy as np\n",
    "import pandas as pd\n",
    "import statsmodels.formula.api as smf\n",
    "import matplotlib.pyplot as plt\n",
    "import seaborn as sns\n",
    "sns.set()"
   ]
  },
  {
   "cell_type": "markdown",
   "metadata": {},
   "source": [
    "## DAO2702 Individual Assignment 2"
   ]
  },
  {
   "cell_type": "markdown",
   "metadata": {},
   "source": [
    "### NOTES"
   ]
  },
  {
   "cell_type": "markdown",
   "metadata": {},
   "source": [
    "1. **HONOR CODE FOR SUBMISSIONS**: This is an individual assignment. You can refer to whatever sources of information or materials, online or offline, but do not communicate with any other people.\n",
    "\n",
    "2. The assignment is due at **11:59pm, Nov 18, 2018**. There is a penalty for late submission as usual.\n",
    "\n",
    "3. Submit your file(s) to IVLE. E-mail submission is not accepted!\n",
    "\n",
    "4. You can work on this notebook directly, fill in your answers/code below, and submit the HTML file.\n",
    "\n",
    "5. Please name your file according to the format: **Assignment_2_G1_MatricNumber.html** (Assignment 2 from tutorial Group 1). Wrong file name = no submission!"
   ]
  },
  {
   "cell_type": "markdown",
   "metadata": {},
   "source": [
    "## Product Sales Forecast"
   ]
  },
  {
   "cell_type": "markdown",
   "metadata": {},
   "source": [
    "### Load data"
   ]
  },
  {
   "cell_type": "markdown",
   "metadata": {},
   "source": [
    "We are going to analyze some sales data from an anonymous cosmetics product retailer. The data has been cleaned and prepared in csv format. You can load the file by doing the following."
   ]
  },
  {
   "cell_type": "code",
   "execution_count": 2,
   "metadata": {},
   "outputs": [
    {
     "data": {
      "text/html": [
       "<div>\n",
       "<style scoped>\n",
       "    .dataframe tbody tr th:only-of-type {\n",
       "        vertical-align: middle;\n",
       "    }\n",
       "\n",
       "    .dataframe tbody tr th {\n",
       "        vertical-align: top;\n",
       "    }\n",
       "\n",
       "    .dataframe thead th {\n",
       "        text-align: right;\n",
       "    }\n",
       "</style>\n",
       "<table border=\"1\" class=\"dataframe\">\n",
       "  <thead>\n",
       "    <tr style=\"text-align: right;\">\n",
       "      <th></th>\n",
       "      <th>date</th>\n",
       "      <th>month</th>\n",
       "      <th>weekend</th>\n",
       "      <th>holiday</th>\n",
       "      <th>prod_id</th>\n",
       "      <th>prod_function</th>\n",
       "      <th>prod_regime</th>\n",
       "      <th>prod_listprice</th>\n",
       "      <th>discount</th>\n",
       "      <th>stockout</th>\n",
       "      <th>sales</th>\n",
       "    </tr>\n",
       "  </thead>\n",
       "  <tbody>\n",
       "    <tr>\n",
       "      <th>0</th>\n",
       "      <td>2015-09-01</td>\n",
       "      <td>9</td>\n",
       "      <td>N</td>\n",
       "      <td>N</td>\n",
       "      <td>25742</td>\n",
       "      <td>Other</td>\n",
       "      <td>ALOE</td>\n",
       "      <td>129000.0</td>\n",
       "      <td>0.000000</td>\n",
       "      <td>0.991525</td>\n",
       "      <td>0.000000</td>\n",
       "    </tr>\n",
       "    <tr>\n",
       "      <th>1</th>\n",
       "      <td>2015-09-01</td>\n",
       "      <td>9</td>\n",
       "      <td>N</td>\n",
       "      <td>N</td>\n",
       "      <td>41906</td>\n",
       "      <td>Moisturisers</td>\n",
       "      <td>VITA</td>\n",
       "      <td>179000.0</td>\n",
       "      <td>7.307671</td>\n",
       "      <td>0.007634</td>\n",
       "      <td>39.694656</td>\n",
       "    </tr>\n",
       "    <tr>\n",
       "      <th>2</th>\n",
       "      <td>2015-09-01</td>\n",
       "      <td>9</td>\n",
       "      <td>N</td>\n",
       "      <td>N</td>\n",
       "      <td>30470</td>\n",
       "      <td>Moisturisers</td>\n",
       "      <td>VITA</td>\n",
       "      <td>129000.0</td>\n",
       "      <td>0.000000</td>\n",
       "      <td>1.000000</td>\n",
       "      <td>0.000000</td>\n",
       "    </tr>\n",
       "    <tr>\n",
       "      <th>3</th>\n",
       "      <td>2015-09-01</td>\n",
       "      <td>9</td>\n",
       "      <td>N</td>\n",
       "      <td>N</td>\n",
       "      <td>30503</td>\n",
       "      <td>Moisturisers</td>\n",
       "      <td>VITA</td>\n",
       "      <td>199000.0</td>\n",
       "      <td>7.068966</td>\n",
       "      <td>0.007692</td>\n",
       "      <td>22.307692</td>\n",
       "    </tr>\n",
       "    <tr>\n",
       "      <th>4</th>\n",
       "      <td>2015-09-01</td>\n",
       "      <td>9</td>\n",
       "      <td>N</td>\n",
       "      <td>N</td>\n",
       "      <td>42924</td>\n",
       "      <td>Treatments</td>\n",
       "      <td>VITA</td>\n",
       "      <td>249000.0</td>\n",
       "      <td>0.000000</td>\n",
       "      <td>0.024000</td>\n",
       "      <td>0.800000</td>\n",
       "    </tr>\n",
       "    <tr>\n",
       "      <th>5</th>\n",
       "      <td>2015-09-01</td>\n",
       "      <td>9</td>\n",
       "      <td>N</td>\n",
       "      <td>N</td>\n",
       "      <td>42046</td>\n",
       "      <td>EyeCare</td>\n",
       "      <td>VITA</td>\n",
       "      <td>179000.0</td>\n",
       "      <td>0.000000</td>\n",
       "      <td>0.007692</td>\n",
       "      <td>7.692308</td>\n",
       "    </tr>\n",
       "    <tr>\n",
       "      <th>6</th>\n",
       "      <td>2015-09-01</td>\n",
       "      <td>9</td>\n",
       "      <td>N</td>\n",
       "      <td>N</td>\n",
       "      <td>10834</td>\n",
       "      <td>Moisturisers</td>\n",
       "      <td>VITA</td>\n",
       "      <td>199000.0</td>\n",
       "      <td>3.333333</td>\n",
       "      <td>0.007634</td>\n",
       "      <td>22.900763</td>\n",
       "    </tr>\n",
       "    <tr>\n",
       "      <th>7</th>\n",
       "      <td>2015-09-01</td>\n",
       "      <td>9</td>\n",
       "      <td>N</td>\n",
       "      <td>N</td>\n",
       "      <td>42137</td>\n",
       "      <td>Cleanser</td>\n",
       "      <td>VITA</td>\n",
       "      <td>119000.0</td>\n",
       "      <td>4.175067</td>\n",
       "      <td>0.015152</td>\n",
       "      <td>82.575758</td>\n",
       "    </tr>\n",
       "    <tr>\n",
       "      <th>8</th>\n",
       "      <td>2015-09-01</td>\n",
       "      <td>9</td>\n",
       "      <td>N</td>\n",
       "      <td>N</td>\n",
       "      <td>42422</td>\n",
       "      <td>Moisturisers</td>\n",
       "      <td>VITA</td>\n",
       "      <td>199000.0</td>\n",
       "      <td>0.000000</td>\n",
       "      <td>0.007937</td>\n",
       "      <td>7.936508</td>\n",
       "    </tr>\n",
       "    <tr>\n",
       "      <th>9</th>\n",
       "      <td>2015-09-01</td>\n",
       "      <td>9</td>\n",
       "      <td>N</td>\n",
       "      <td>N</td>\n",
       "      <td>42671</td>\n",
       "      <td>Cleanser</td>\n",
       "      <td>VITA</td>\n",
       "      <td>89000.0</td>\n",
       "      <td>2.500000</td>\n",
       "      <td>0.015385</td>\n",
       "      <td>12.307692</td>\n",
       "    </tr>\n",
       "  </tbody>\n",
       "</table>\n",
       "</div>"
      ],
      "text/plain": [
       "         date  month weekend holiday  prod_id prod_function prod_regime  \\\n",
       "0  2015-09-01      9       N       N    25742         Other        ALOE   \n",
       "1  2015-09-01      9       N       N    41906  Moisturisers        VITA   \n",
       "2  2015-09-01      9       N       N    30470  Moisturisers        VITA   \n",
       "3  2015-09-01      9       N       N    30503  Moisturisers        VITA   \n",
       "4  2015-09-01      9       N       N    42924    Treatments        VITA   \n",
       "5  2015-09-01      9       N       N    42046       EyeCare        VITA   \n",
       "6  2015-09-01      9       N       N    10834  Moisturisers        VITA   \n",
       "7  2015-09-01      9       N       N    42137      Cleanser        VITA   \n",
       "8  2015-09-01      9       N       N    42422  Moisturisers        VITA   \n",
       "9  2015-09-01      9       N       N    42671      Cleanser        VITA   \n",
       "\n",
       "   prod_listprice  discount  stockout      sales  \n",
       "0        129000.0  0.000000  0.991525   0.000000  \n",
       "1        179000.0  7.307671  0.007634  39.694656  \n",
       "2        129000.0  0.000000  1.000000   0.000000  \n",
       "3        199000.0  7.068966  0.007692  22.307692  \n",
       "4        249000.0  0.000000  0.024000   0.800000  \n",
       "5        179000.0  0.000000  0.007692   7.692308  \n",
       "6        199000.0  3.333333  0.007634  22.900763  \n",
       "7        119000.0  4.175067  0.015152  82.575758  \n",
       "8        199000.0  0.000000  0.007937   7.936508  \n",
       "9         89000.0  2.500000  0.015385  12.307692  "
      ]
     },
     "execution_count": 2,
     "metadata": {},
     "output_type": "execute_result"
    }
   ],
   "source": [
    "data = pd.read_csv(\"sales.csv\")\n",
    "data.head(10)"
   ]
  },
  {
   "cell_type": "markdown",
   "metadata": {},
   "source": [
    "The dataset is the detailed sales records for each product, organized by date, over the period from 2015-09-01 to 2015-10-31, aggregated over all the stores. A detailed description of all variables in the dataset can be seen in the list below."
   ]
  },
  {
   "cell_type": "markdown",
   "metadata": {},
   "source": [
    "- **date**: date of the record, in YYYY-MM-DD format;\n",
    "- **month**: calender month extracted from date.key (9, 10);\n",
    "- **weekend**: whether the day is in weekend (Y/N);\n",
    "- **holiday**: whether the day is a public holiday (Y/N);\n",
    "- **prod_id**: product ID;\n",
    "- **prod_function**: product category by its function (e.g., cleanser, moisturzier);\n",
    "- **prod_regime**: product category by its “regime” or “theme” (e.g., Tea, Aloe), which is orthogonal to the function categorization;\n",
    "- **prod_listprice**: official list price of the product;\n",
    "- **discount**: average discount offered for the product, averaged across all stores (0 to 100, e.g., 20 means 20% discount);\n",
    "- **stockout**: average stock availability of the product across all stores at the beginning of the day (between 0 to 1, with 1 means 100% of the stores have no stock);\n",
    "- **sales**: total sales of the product on that day, aggregated over all the stores."
   ]
  },
  {
   "cell_type": "code",
   "execution_count": 3,
   "metadata": {},
   "outputs": [
    {
     "data": {
      "text/html": [
       "<div>\n",
       "<style scoped>\n",
       "    .dataframe tbody tr th:only-of-type {\n",
       "        vertical-align: middle;\n",
       "    }\n",
       "\n",
       "    .dataframe tbody tr th {\n",
       "        vertical-align: top;\n",
       "    }\n",
       "\n",
       "    .dataframe thead th {\n",
       "        text-align: right;\n",
       "    }\n",
       "</style>\n",
       "<table border=\"1\" class=\"dataframe\">\n",
       "  <thead>\n",
       "    <tr style=\"text-align: right;\">\n",
       "      <th></th>\n",
       "      <th>month</th>\n",
       "      <th>prod_id</th>\n",
       "      <th>prod_listprice</th>\n",
       "      <th>discount</th>\n",
       "      <th>stockout</th>\n",
       "      <th>sales</th>\n",
       "    </tr>\n",
       "  </thead>\n",
       "  <tbody>\n",
       "    <tr>\n",
       "      <th>count</th>\n",
       "      <td>5967.000000</td>\n",
       "      <td>5967.000000</td>\n",
       "      <td>5967.000000</td>\n",
       "      <td>5967.000000</td>\n",
       "      <td>5967.000000</td>\n",
       "      <td>5967.000000</td>\n",
       "    </tr>\n",
       "    <tr>\n",
       "      <th>mean</th>\n",
       "      <td>9.512318</td>\n",
       "      <td>31717.804760</td>\n",
       "      <td>222924.181556</td>\n",
       "      <td>5.146859</td>\n",
       "      <td>0.213269</td>\n",
       "      <td>19.135094</td>\n",
       "    </tr>\n",
       "    <tr>\n",
       "      <th>std</th>\n",
       "      <td>0.499890</td>\n",
       "      <td>16231.682154</td>\n",
       "      <td>110594.388267</td>\n",
       "      <td>10.222552</td>\n",
       "      <td>0.385380</td>\n",
       "      <td>30.548377</td>\n",
       "    </tr>\n",
       "    <tr>\n",
       "      <th>min</th>\n",
       "      <td>9.000000</td>\n",
       "      <td>1936.000000</td>\n",
       "      <td>49000.000000</td>\n",
       "      <td>0.000000</td>\n",
       "      <td>0.000000</td>\n",
       "      <td>0.000000</td>\n",
       "    </tr>\n",
       "    <tr>\n",
       "      <th>25%</th>\n",
       "      <td>9.000000</td>\n",
       "      <td>16007.000000</td>\n",
       "      <td>149000.000000</td>\n",
       "      <td>0.000000</td>\n",
       "      <td>0.007576</td>\n",
       "      <td>2.362205</td>\n",
       "    </tr>\n",
       "    <tr>\n",
       "      <th>50%</th>\n",
       "      <td>10.000000</td>\n",
       "      <td>31484.000000</td>\n",
       "      <td>199000.000000</td>\n",
       "      <td>1.500000</td>\n",
       "      <td>0.015038</td>\n",
       "      <td>9.375000</td>\n",
       "    </tr>\n",
       "    <tr>\n",
       "      <th>75%</th>\n",
       "      <td>10.000000</td>\n",
       "      <td>42491.000000</td>\n",
       "      <td>259000.000000</td>\n",
       "      <td>5.600000</td>\n",
       "      <td>0.053030</td>\n",
       "      <td>22.137405</td>\n",
       "    </tr>\n",
       "    <tr>\n",
       "      <th>max</th>\n",
       "      <td>10.000000</td>\n",
       "      <td>76024.000000</td>\n",
       "      <td>649000.000000</td>\n",
       "      <td>100.000000</td>\n",
       "      <td>1.000000</td>\n",
       "      <td>430.534351</td>\n",
       "    </tr>\n",
       "  </tbody>\n",
       "</table>\n",
       "</div>"
      ],
      "text/plain": [
       "             month       prod_id  prod_listprice     discount     stockout  \\\n",
       "count  5967.000000   5967.000000     5967.000000  5967.000000  5967.000000   \n",
       "mean      9.512318  31717.804760   222924.181556     5.146859     0.213269   \n",
       "std       0.499890  16231.682154   110594.388267    10.222552     0.385380   \n",
       "min       9.000000   1936.000000    49000.000000     0.000000     0.000000   \n",
       "25%       9.000000  16007.000000   149000.000000     0.000000     0.007576   \n",
       "50%      10.000000  31484.000000   199000.000000     1.500000     0.015038   \n",
       "75%      10.000000  42491.000000   259000.000000     5.600000     0.053030   \n",
       "max      10.000000  76024.000000   649000.000000   100.000000     1.000000   \n",
       "\n",
       "             sales  \n",
       "count  5967.000000  \n",
       "mean     19.135094  \n",
       "std      30.548377  \n",
       "min       0.000000  \n",
       "25%       2.362205  \n",
       "50%       9.375000  \n",
       "75%      22.137405  \n",
       "max     430.534351  "
      ]
     },
     "execution_count": 3,
     "metadata": {},
     "output_type": "execute_result"
    }
   ],
   "source": [
    "data.describe()"
   ]
  },
  {
   "cell_type": "code",
   "execution_count": 4,
   "metadata": {},
   "outputs": [
    {
     "data": {
      "text/plain": [
       "Moisturisers    1963\n",
       "Treatments      1538\n",
       "Cleanser        1477\n",
       "Other            366\n",
       "Toner            318\n",
       "EyeCare          305\n",
       "Name: prod_function, dtype: int64"
      ]
     },
     "execution_count": 4,
     "metadata": {},
     "output_type": "execute_result"
    }
   ],
   "source": [
    "# Product Functions\n",
    "data['prod_function'].value_counts()"
   ]
  },
  {
   "cell_type": "code",
   "execution_count": 5,
   "metadata": {},
   "outputs": [
    {
     "data": {
      "text/plain": [
       "TEA      1442\n",
       "VITA     1353\n",
       "ALOE      976\n",
       "OCEAN     671\n",
       "WHITE     427\n",
       "HERB      427\n",
       "POME      366\n",
       "YOUTH     305\n",
       "Name: prod_regime, dtype: int64"
      ]
     },
     "execution_count": 5,
     "metadata": {},
     "output_type": "execute_result"
    }
   ],
   "source": [
    "# Product Regimes\n",
    "data['prod_regime'].value_counts()"
   ]
  },
  {
   "cell_type": "markdown",
   "metadata": {},
   "source": [
    "Our main task here is to figure out the impact of the various factors on the *sales* variable."
   ]
  },
  {
   "cell_type": "markdown",
   "metadata": {},
   "source": [
    "### I. Regression on *sales*"
   ]
  },
  {
   "cell_type": "markdown",
   "metadata": {},
   "source": [
    "As a starting point, we first fit a linear regression model on the *sales* variable. Here we choose to ignore *date* and *prod_id* and use the rest of the variables as predictors."
   ]
  },
  {
   "cell_type": "code",
   "execution_count": 6,
   "metadata": {},
   "outputs": [
    {
     "name": "stdout",
     "output_type": "stream",
     "text": [
      "                            OLS Regression Results                            \n",
      "==============================================================================\n",
      "Dep. Variable:                  sales   R-squared:                       0.278\n",
      "Model:                            OLS   Adj. R-squared:                  0.275\n",
      "Method:                 Least Squares   F-statistic:                     127.0\n",
      "Date:                Sun, 18 Nov 2018   Prob (F-statistic):               0.00\n",
      "Time:                        23:17:51   Log-Likelihood:                -27899.\n",
      "No. Observations:                5967   AIC:                         5.584e+04\n",
      "Df Residuals:                    5948   BIC:                         5.596e+04\n",
      "Df Model:                          18                                         \n",
      "Covariance Type:            nonrobust                                         \n",
      "=================================================================================================\n",
      "                                    coef    std err          t      P>|t|      [0.025      0.975]\n",
      "-------------------------------------------------------------------------------------------------\n",
      "Intercept                         7.4966      6.575      1.140      0.254      -5.394      20.387\n",
      "weekend[T.Y]                     12.4705      0.757     16.472      0.000      10.986      13.955\n",
      "holiday[T.Y]                     12.5009      1.911      6.542      0.000       8.755      16.247\n",
      "prod_function[T.EyeCare]        -17.0896      1.738     -9.835      0.000     -20.496     -13.683\n",
      "prod_function[T.Moisturisers]    -4.2329      1.081     -3.914      0.000      -6.353      -2.113\n",
      "prod_function[T.Other]           -1.4569      1.600     -0.911      0.363      -4.594       1.680\n",
      "prod_function[T.Toner]           -8.2722      1.626     -5.089      0.000     -11.459      -5.085\n",
      "prod_function[T.Treatments]      -9.7475      1.246     -7.820      0.000     -12.191      -7.304\n",
      "prod_regime[T.HERB]              14.5523      1.942      7.495      0.000      10.746      18.359\n",
      "prod_regime[T.OCEAN]              1.0748      1.343      0.800      0.424      -1.558       3.708\n",
      "prod_regime[T.POME]               1.7154      1.896      0.905      0.366      -2.002       5.433\n",
      "prod_regime[T.TEA]               16.3640      1.141     14.337      0.000      14.127      18.601\n",
      "prod_regime[T.VITA]               6.6399      1.106      6.003      0.000       4.472       8.808\n",
      "prod_regime[T.WHITE]             23.1618      2.031     11.405      0.000      19.181      27.143\n",
      "prod_regime[T.YOUTH]             47.4428      2.708     17.518      0.000      42.134      52.752\n",
      "month                             2.5016      0.683      3.660      0.000       1.162       3.841\n",
      "prod_listprice                 -7.49e-05   7.77e-06     -9.642      0.000   -9.01e-05   -5.97e-05\n",
      "discount                          0.4146      0.035     12.005      0.000       0.347       0.482\n",
      "stockout                        -32.6950      1.124    -29.086      0.000     -34.899     -30.491\n",
      "==============================================================================\n",
      "Omnibus:                     5081.500   Durbin-Watson:                   1.821\n",
      "Prob(Omnibus):                  0.000   Jarque-Bera (JB):           201849.324\n",
      "Skew:                           3.904   Prob(JB):                         0.00\n",
      "Kurtosis:                      30.403   Cond. No.                     4.89e+06\n",
      "==============================================================================\n",
      "\n",
      "Warnings:\n",
      "[1] Standard Errors assume that the covariance matrix of the errors is correctly specified.\n",
      "[2] The condition number is large, 4.89e+06. This might indicate that there are\n",
      "strong multicollinearity or other numerical problems.\n"
     ]
    }
   ],
   "source": [
    "model_linear = smf.ols('sales ~ month + weekend + holiday + prod_function + prod_regime + prod_listprice + discount + stockout', data=data).fit()\n",
    "print(model_linear.summary())"
   ]
  },
  {
   "cell_type": "code",
   "execution_count": 7,
   "metadata": {},
   "outputs": [
    {
     "name": "stderr",
     "output_type": "stream",
     "text": [
      "C:\\Users\\Anaconda3\\lib\\site-packages\\scipy\\stats\\stats.py:1713: FutureWarning: Using a non-tuple sequence for multidimensional indexing is deprecated; use `arr[tuple(seq)]` instead of `arr[seq]`. In the future this will be interpreted as an array index, `arr[np.array(seq)]`, which will result either in an error or a different result.\n",
      "  return np.add.reduce(sorted[indexer] * weights, axis=axis) / sumval\n"
     ]
    },
    {
     "data": {
      "text/plain": [
       "<matplotlib.axes._subplots.AxesSubplot at 0x29d130064e0>"
      ]
     },
     "execution_count": 7,
     "metadata": {},
     "output_type": "execute_result"
    },
    {
     "data": {
      "image/png": "[encoded data removed]",
      "text/plain": [
       "<Figure size 432x288 with 1 Axes>"
      ]
     },
     "metadata": {
      "needs_background": "light"
     },
     "output_type": "display_data"
    }
   ],
   "source": [
    "sns.regplot(x='discount',y='sales',data=data)"
   ]
  },
  {
   "cell_type": "markdown",
   "metadata": {},
   "source": [
    "#### Q1a. According to *model_linear*, what is the impact of *discount* on *sales*?"
   ]
  },
  {
   "cell_type": "code",
   "execution_count": 8,
   "metadata": {},
   "outputs": [
    {
     "data": {
      "text/plain": [
       "Intercept                         7.496579\n",
       "weekend[T.Y]                     12.470463\n",
       "holiday[T.Y]                     12.500896\n",
       "prod_function[T.EyeCare]        -17.089615\n",
       "prod_function[T.Moisturisers]    -4.232922\n",
       "prod_function[T.Other]           -1.456938\n",
       "prod_function[T.Toner]           -8.272192\n",
       "prod_function[T.Treatments]      -9.747544\n",
       "prod_regime[T.HERB]              14.552301\n",
       "prod_regime[T.OCEAN]              1.074830\n",
       "prod_regime[T.POME]               1.715352\n",
       "prod_regime[T.TEA]               16.363965\n",
       "prod_regime[T.VITA]               6.639949\n",
       "prod_regime[T.WHITE]             23.161848\n",
       "prod_regime[T.YOUTH]             47.442831\n",
       "month                             2.501630\n",
       "prod_listprice                   -0.000075\n",
       "discount                          0.414604\n",
       "stockout                        -32.695023\n",
       "dtype: float64"
      ]
     },
     "execution_count": 8,
     "metadata": {},
     "output_type": "execute_result"
    }
   ],
   "source": [
    "model_linear.params"
   ]
  },
  {
   "cell_type": "markdown",
   "metadata": {},
   "source": [
    "Since the p-value of discount is 0, it tells us that discount is a significant predictor in the linear model for sales. According to model_linear, since the coefficient of discount is larger than 0, there is a positive correlation between discount and sales. Since the coefficient of discount is 0.4146, for every 1% increase in discount, sales is estimated to increase by \\\\$0.4146. Similarly, when discount decreases by 1%, sales is also estimated to drop proportionately by $0.4146."
   ]
  },
  {
   "cell_type": "markdown",
   "metadata": {},
   "source": [
    "#### Q1b. What is the RSS and R2 of the model?"
   ]
  },
  {
   "cell_type": "code",
   "execution_count": 9,
   "metadata": {},
   "outputs": [
    {
     "name": "stdout",
     "output_type": "stream",
     "text": [
      "The RSS value for model_linear is 4021684.843391874.\n"
     ]
    }
   ],
   "source": [
    "RSS = np.sum(model_linear.resid**2)\n",
    "print(\"The RSS value for model_linear is \"+str(RSS)+\".\")"
   ]
  },
  {
   "cell_type": "code",
   "execution_count": 10,
   "metadata": {},
   "outputs": [
    {
     "name": "stdout",
     "output_type": "stream",
     "text": [
      "The R-squared value of model_linear is 0.2776486439956436.\n"
     ]
    }
   ],
   "source": [
    "R_square = model_linear.rsquared\n",
    "print(\"The R-squared value of model_linear is \"+str(R_square)+\".\")"
   ]
  },
  {
   "cell_type": "markdown",
   "metadata": {},
   "source": [
    "#### Q1c. Plot a scatterplot of the true *sales* ($y$) and the predicted sales ($\\hat{y}$)."
   ]
  },
  {
   "cell_type": "markdown",
   "metadata": {},
   "source": [
    "Hint: check the \"fittedvalues\" attribute of the fitted model for $\\hat{y}$."
   ]
  },
  {
   "cell_type": "code",
   "execution_count": 11,
   "metadata": {
    "scrolled": true
   },
   "outputs": [],
   "source": [
    "predicted_sales = model_linear.fittedvalues\n",
    "# print(predicted_sales)"
   ]
  },
  {
   "cell_type": "code",
   "execution_count": 12,
   "metadata": {
    "scrolled": false
   },
   "outputs": [
    {
     "data": {
      "image/png": "[encoded data removed]",
      "text/plain": [
       "<Figure size 720x432 with 1 Axes>"
      ]
     },
     "metadata": {
      "needs_background": "light"
     },
     "output_type": "display_data"
    }
   ],
   "source": [
    "plt.figure(figsize=(10,6))\n",
    "sns.scatterplot(x=data['sales'],y=predicted_sales)\n",
    "plt.title(\"Linear Model: Sales vs Predicted Sales\")\n",
    "plt.xlabel('Sales')\n",
    "plt.ylabel('Predicted Sales')\n",
    "plt.tight_layout()\n",
    "plt.show()"
   ]
  },
  {
   "cell_type": "markdown",
   "metadata": {},
   "source": [
    "### II. Nonlinear Transformation on the Y variable"
   ]
  },
  {
   "cell_type": "markdown",
   "metadata": {},
   "source": [
    "Next we try to refine our regression model. One observation is that in the dataset, the y variable, *sales*, is nonnegative, which demands a logarithm transformation here. But **np.log(sales)** would not work because sales can take value zero. The common trick is to use **np.log1p(sales)** instead, where np.log1p(sales) = np.log(1 + sales)."
   ]
  },
  {
   "cell_type": "markdown",
   "metadata": {},
   "source": [
    "#### Q2a. Fit a linear regression model using *np.log1p(sales)* as the Y variable. (The predictors remain the same as in Q1.)"
   ]
  },
  {
   "cell_type": "code",
   "execution_count": 13,
   "metadata": {
    "scrolled": true
   },
   "outputs": [
    {
     "data": {
      "text/html": [
       "<div>\n",
       "<style scoped>\n",
       "    .dataframe tbody tr th:only-of-type {\n",
       "        vertical-align: middle;\n",
       "    }\n",
       "\n",
       "    .dataframe tbody tr th {\n",
       "        vertical-align: top;\n",
       "    }\n",
       "\n",
       "    .dataframe thead th {\n",
       "        text-align: right;\n",
       "    }\n",
       "</style>\n",
       "<table border=\"1\" class=\"dataframe\">\n",
       "  <thead>\n",
       "    <tr style=\"text-align: right;\">\n",
       "      <th></th>\n",
       "      <th>date</th>\n",
       "      <th>month</th>\n",
       "      <th>weekend</th>\n",
       "      <th>holiday</th>\n",
       "      <th>prod_id</th>\n",
       "      <th>prod_function</th>\n",
       "      <th>prod_regime</th>\n",
       "      <th>prod_listprice</th>\n",
       "      <th>discount</th>\n",
       "      <th>stockout</th>\n",
       "      <th>sales</th>\n",
       "      <th>log_sales</th>\n",
       "    </tr>\n",
       "  </thead>\n",
       "  <tbody>\n",
       "    <tr>\n",
       "      <th>0</th>\n",
       "      <td>2015-09-01</td>\n",
       "      <td>9</td>\n",
       "      <td>N</td>\n",
       "      <td>N</td>\n",
       "      <td>25742</td>\n",
       "      <td>Other</td>\n",
       "      <td>ALOE</td>\n",
       "      <td>129000.0</td>\n",
       "      <td>0.000000</td>\n",
       "      <td>0.991525</td>\n",
       "      <td>0.000000</td>\n",
       "      <td>0.000000</td>\n",
       "    </tr>\n",
       "    <tr>\n",
       "      <th>1</th>\n",
       "      <td>2015-09-01</td>\n",
       "      <td>9</td>\n",
       "      <td>N</td>\n",
       "      <td>N</td>\n",
       "      <td>41906</td>\n",
       "      <td>Moisturisers</td>\n",
       "      <td>VITA</td>\n",
       "      <td>179000.0</td>\n",
       "      <td>7.307671</td>\n",
       "      <td>0.007634</td>\n",
       "      <td>39.694656</td>\n",
       "      <td>3.706097</td>\n",
       "    </tr>\n",
       "    <tr>\n",
       "      <th>2</th>\n",
       "      <td>2015-09-01</td>\n",
       "      <td>9</td>\n",
       "      <td>N</td>\n",
       "      <td>N</td>\n",
       "      <td>30470</td>\n",
       "      <td>Moisturisers</td>\n",
       "      <td>VITA</td>\n",
       "      <td>129000.0</td>\n",
       "      <td>0.000000</td>\n",
       "      <td>1.000000</td>\n",
       "      <td>0.000000</td>\n",
       "      <td>0.000000</td>\n",
       "    </tr>\n",
       "    <tr>\n",
       "      <th>3</th>\n",
       "      <td>2015-09-01</td>\n",
       "      <td>9</td>\n",
       "      <td>N</td>\n",
       "      <td>N</td>\n",
       "      <td>30503</td>\n",
       "      <td>Moisturisers</td>\n",
       "      <td>VITA</td>\n",
       "      <td>199000.0</td>\n",
       "      <td>7.068966</td>\n",
       "      <td>0.007692</td>\n",
       "      <td>22.307692</td>\n",
       "      <td>3.148783</td>\n",
       "    </tr>\n",
       "    <tr>\n",
       "      <th>4</th>\n",
       "      <td>2015-09-01</td>\n",
       "      <td>9</td>\n",
       "      <td>N</td>\n",
       "      <td>N</td>\n",
       "      <td>42924</td>\n",
       "      <td>Treatments</td>\n",
       "      <td>VITA</td>\n",
       "      <td>249000.0</td>\n",
       "      <td>0.000000</td>\n",
       "      <td>0.024000</td>\n",
       "      <td>0.800000</td>\n",
       "      <td>0.587787</td>\n",
       "    </tr>\n",
       "  </tbody>\n",
       "</table>\n",
       "</div>"
      ],
      "text/plain": [
       "         date  month weekend holiday  prod_id prod_function prod_regime  \\\n",
       "0  2015-09-01      9       N       N    25742         Other        ALOE   \n",
       "1  2015-09-01      9       N       N    41906  Moisturisers        VITA   \n",
       "2  2015-09-01      9       N       N    30470  Moisturisers        VITA   \n",
       "3  2015-09-01      9       N       N    30503  Moisturisers        VITA   \n",
       "4  2015-09-01      9       N       N    42924    Treatments        VITA   \n",
       "\n",
       "   prod_listprice  discount  stockout      sales  log_sales  \n",
       "0        129000.0  0.000000  0.991525   0.000000   0.000000  \n",
       "1        179000.0  7.307671  0.007634  39.694656   3.706097  \n",
       "2        129000.0  0.000000  1.000000   0.000000   0.000000  \n",
       "3        199000.0  7.068966  0.007692  22.307692   3.148783  \n",
       "4        249000.0  0.000000  0.024000   0.800000   0.587787  "
      ]
     },
     "execution_count": 13,
     "metadata": {},
     "output_type": "execute_result"
    }
   ],
   "source": [
    "data['log_sales'] = data['sales'].map(lambda x: np.log1p(x))\n",
    "data.head()"
   ]
  },
  {
   "cell_type": "code",
   "execution_count": 14,
   "metadata": {},
   "outputs": [
    {
     "name": "stdout",
     "output_type": "stream",
     "text": [
      "                            OLS Regression Results                            \n",
      "==============================================================================\n",
      "Dep. Variable:              log_sales   R-squared:                       0.732\n",
      "Model:                            OLS   Adj. R-squared:                  0.731\n",
      "Method:                 Least Squares   F-statistic:                     900.4\n",
      "Date:                Sun, 18 Nov 2018   Prob (F-statistic):               0.00\n",
      "Time:                        23:17:53   Log-Likelihood:                -6531.0\n",
      "No. Observations:                5967   AIC:                         1.310e+04\n",
      "Df Residuals:                    5948   BIC:                         1.323e+04\n",
      "Df Model:                          18                                         \n",
      "Covariance Type:            nonrobust                                         \n",
      "=================================================================================================\n",
      "                                    coef    std err          t      P>|t|      [0.025      0.975]\n",
      "-------------------------------------------------------------------------------------------------\n",
      "Intercept                         2.3302      0.183     12.726      0.000       1.971       2.689\n",
      "weekend[T.Y]                      0.4509      0.021     21.388      0.000       0.410       0.492\n",
      "holiday[T.Y]                      0.4798      0.053      9.016      0.000       0.375       0.584\n",
      "prod_function[T.EyeCare]         -0.8736      0.048    -18.055      0.000      -0.969      -0.779\n",
      "prod_function[T.Moisturisers]     0.0162      0.030      0.536      0.592      -0.043       0.075\n",
      "prod_function[T.Other]           -0.1240      0.045     -2.783      0.005      -0.211      -0.037\n",
      "prod_function[T.Toner]           -0.0943      0.045     -2.084      0.037      -0.183      -0.006\n",
      "prod_function[T.Treatments]      -0.6925      0.035    -19.950      0.000      -0.760      -0.624\n",
      "prod_regime[T.HERB]               0.8338      0.054     15.421      0.000       0.728       0.940\n",
      "prod_regime[T.OCEAN]              0.2664      0.037      7.121      0.000       0.193       0.340\n",
      "prod_regime[T.POME]               0.2005      0.053      3.797      0.000       0.097       0.304\n",
      "prod_regime[T.TEA]                0.8310      0.032     26.145      0.000       0.769       0.893\n",
      "prod_regime[T.VITA]               0.4673      0.031     15.173      0.000       0.407       0.528\n",
      "prod_regime[T.WHITE]              1.1146      0.057     19.709      0.000       1.004       1.225\n",
      "prod_regime[T.YOUTH]              2.4795      0.075     32.877      0.000       2.332       2.627\n",
      "month                             0.0570      0.019      2.996      0.003       0.020       0.094\n",
      "prod_listprice                -2.889e-06   2.16e-07    -13.354      0.000   -3.31e-06   -2.46e-06\n",
      "discount                          0.0114      0.001     11.860      0.000       0.010       0.013\n",
      "stockout                         -3.0727      0.031    -98.163      0.000      -3.134      -3.011\n",
      "==============================================================================\n",
      "Omnibus:                      230.631   Durbin-Watson:                   1.972\n",
      "Prob(Omnibus):                  0.000   Jarque-Bera (JB):              547.051\n",
      "Skew:                           0.214   Prob(JB):                    1.62e-119\n",
      "Kurtosis:                       4.420   Cond. No.                     4.89e+06\n",
      "==============================================================================\n",
      "\n",
      "Warnings:\n",
      "[1] Standard Errors assume that the covariance matrix of the errors is correctly specified.\n",
      "[2] The condition number is large, 4.89e+06. This might indicate that there are\n",
      "strong multicollinearity or other numerical problems.\n"
     ]
    }
   ],
   "source": [
    "model_log = smf.ols('log_sales ~ month + weekend + holiday + prod_function + prod_regime + prod_listprice + discount + stockout',data=data).fit()\n",
    "print(model_log.summary())"
   ]
  },
  {
   "cell_type": "markdown",
   "metadata": {},
   "source": [
    "#### Q2b. According to the log model, what is the impact of *discount*?"
   ]
  },
  {
   "cell_type": "code",
   "execution_count": 15,
   "metadata": {},
   "outputs": [
    {
     "data": {
      "text/plain": [
       "Intercept                        2.330164\n",
       "weekend[T.Y]                     0.450907\n",
       "holiday[T.Y]                     0.479784\n",
       "prod_function[T.EyeCare]        -0.873645\n",
       "prod_function[T.Moisturisers]    0.016152\n",
       "prod_function[T.Other]          -0.124006\n",
       "prod_function[T.Toner]          -0.094324\n",
       "prod_function[T.Treatments]     -0.692457\n",
       "prod_regime[T.HERB]              0.833827\n",
       "prod_regime[T.OCEAN]             0.266366\n",
       "prod_regime[T.POME]              0.200511\n",
       "prod_regime[T.TEA]               0.830973\n",
       "prod_regime[T.VITA]              0.467349\n",
       "prod_regime[T.WHITE]             1.114620\n",
       "prod_regime[T.YOUTH]             2.479465\n",
       "month                            0.057027\n",
       "prod_listprice                  -0.000003\n",
       "discount                         0.011406\n",
       "stockout                        -3.072728\n",
       "dtype: float64"
      ]
     },
     "execution_count": 15,
     "metadata": {},
     "output_type": "execute_result"
    }
   ],
   "source": [
    "model_log.params"
   ]
  },
  {
   "cell_type": "markdown",
   "metadata": {},
   "source": [
    "Since the p-value for discount is also 0 for the log model, discount is also a significant predictor in this model. Under the log model, the coefficient for discount is 0.0114. Since the coefficient of discount is larger than zero, there is a positive correlation between discount and log_sales. Hence, an increase in discount by 1% is expected to cause the estimated value of log_sales to increase by 0.0114 according to the coefficient of discount. Similarly, when discount decreases by 1%, the estimated value of log_sales is expected to decrease proportionately by 0.0114."
   ]
  },
  {
   "cell_type": "markdown",
   "metadata": {},
   "source": [
    "#### Q2c. What is the RSS and R2 of the model with log transformation? How does it compare to those of the linear model?"
   ]
  },
  {
   "cell_type": "code",
   "execution_count": 16,
   "metadata": {},
   "outputs": [
    {
     "name": "stdout",
     "output_type": "stream",
     "text": [
      "The RSS value for model_log is 3118.7102909026853.\n"
     ]
    }
   ],
   "source": [
    "RSS2 = np.sum(model_log.resid**2)\n",
    "print(\"The RSS value for model_log is \"+str(RSS2)+\".\")"
   ]
  },
  {
   "cell_type": "code",
   "execution_count": 17,
   "metadata": {},
   "outputs": [
    {
     "name": "stdout",
     "output_type": "stream",
     "text": [
      "The R-squared value for model_log is 0.7315375285204779.\n"
     ]
    }
   ],
   "source": [
    "R_square2 = model_log.rsquared\n",
    "print(\"The R-squared value for model_log is \"+str(R_square2)+\".\")"
   ]
  },
  {
   "cell_type": "markdown",
   "metadata": {},
   "source": [
    "The Residual Sum of Squares (RSS) is the sum of total squared errors and calculates the total discrepancy between the regression function and actual sales. The RSS value for the the log model is **3118.71**, which is much smaller than the RSS value of **4021684.84** for the linear model. This tells us that the variation in log_sales value not explained by the log model is smaller than the variation in sales value not explained by the linear model given the same set of predictors. Generally, a smaller RSS value would indicate that the model is better at estimating and explaining variation in the dependent variable (sales). However, we cannot effectively compare both RSS values here as log(1+sales) is the dependent variable for the log model as compared to sales being the dependent variable in the linear model.\n",
    "\n",
    "The R-squared value for the log model is **0.732**, which is higher than the R-squared value of **0.278** for the linear model. This shows that the same set of variables (month, weekend, holiday, prod_function, prod_regime, prod_listprice, discount and stockout) can explain a larger fraction of the variation in log_sales value in the log model compared to sales value in the linear model. However, it is difficult to directly compare the predicted sales value across both models as the linear model measures error on sales directly whereas the log model measures error on log(1+sales)."
   ]
  },
  {
   "cell_type": "markdown",
   "metadata": {},
   "source": [
    "### III. Comparison of the two models on the *sales* scale"
   ]
  },
  {
   "cell_type": "markdown",
   "metadata": {},
   "source": [
    "As we have seen, directly comparing the linear and the log model is difficult because one measures the error on *sales* and the other on *log(1+sales)*. In this part, we will convert the log model's fit to the original sales values, and then compare the two models on the same scale."
   ]
  },
  {
   "cell_type": "markdown",
   "metadata": {},
   "source": [
    "#### Q3a. Extract the fitted values of the log model, which are log(1+sales), and transform it to predicted sales values."
   ]
  },
  {
   "cell_type": "markdown",
   "metadata": {},
   "source": [
    "Hint: In the log model, the fitted value $\\hat{y} = \\log(1 + \\hat{sales})$, so the predicted sales is equal to $\\exp{(\\hat{y})} - 1$."
   ]
  },
  {
   "cell_type": "code",
   "execution_count": 18,
   "metadata": {},
   "outputs": [
    {
     "data": {
      "text/html": [
       "<div>\n",
       "<style scoped>\n",
       "    .dataframe tbody tr th:only-of-type {\n",
       "        vertical-align: middle;\n",
       "    }\n",
       "\n",
       "    .dataframe tbody tr th {\n",
       "        vertical-align: top;\n",
       "    }\n",
       "\n",
       "    .dataframe thead th {\n",
       "        text-align: right;\n",
       "    }\n",
       "</style>\n",
       "<table border=\"1\" class=\"dataframe\">\n",
       "  <thead>\n",
       "    <tr style=\"text-align: right;\">\n",
       "      <th></th>\n",
       "      <th>date</th>\n",
       "      <th>month</th>\n",
       "      <th>weekend</th>\n",
       "      <th>holiday</th>\n",
       "      <th>prod_id</th>\n",
       "      <th>prod_function</th>\n",
       "      <th>prod_regime</th>\n",
       "      <th>prod_listprice</th>\n",
       "      <th>discount</th>\n",
       "      <th>stockout</th>\n",
       "      <th>sales</th>\n",
       "      <th>log_sales</th>\n",
       "      <th>predicted_sales</th>\n",
       "    </tr>\n",
       "  </thead>\n",
       "  <tbody>\n",
       "    <tr>\n",
       "      <th>0</th>\n",
       "      <td>2015-09-01</td>\n",
       "      <td>9</td>\n",
       "      <td>N</td>\n",
       "      <td>N</td>\n",
       "      <td>25742</td>\n",
       "      <td>Other</td>\n",
       "      <td>ALOE</td>\n",
       "      <td>129000.0</td>\n",
       "      <td>0.000000</td>\n",
       "      <td>0.991525</td>\n",
       "      <td>0.000000</td>\n",
       "      <td>0.000000</td>\n",
       "      <td>-0.503398</td>\n",
       "    </tr>\n",
       "    <tr>\n",
       "      <th>1</th>\n",
       "      <td>2015-09-01</td>\n",
       "      <td>9</td>\n",
       "      <td>N</td>\n",
       "      <td>N</td>\n",
       "      <td>41906</td>\n",
       "      <td>Moisturisers</td>\n",
       "      <td>VITA</td>\n",
       "      <td>179000.0</td>\n",
       "      <td>7.307671</td>\n",
       "      <td>0.007634</td>\n",
       "      <td>39.694656</td>\n",
       "      <td>3.706097</td>\n",
       "      <td>16.631308</td>\n",
       "    </tr>\n",
       "    <tr>\n",
       "      <th>2</th>\n",
       "      <td>2015-09-01</td>\n",
       "      <td>9</td>\n",
       "      <td>N</td>\n",
       "      <td>N</td>\n",
       "      <td>30470</td>\n",
       "      <td>Moisturisers</td>\n",
       "      <td>VITA</td>\n",
       "      <td>129000.0</td>\n",
       "      <td>0.000000</td>\n",
       "      <td>1.000000</td>\n",
       "      <td>0.000000</td>\n",
       "      <td>0.000000</td>\n",
       "      <td>-0.111748</td>\n",
       "    </tr>\n",
       "    <tr>\n",
       "      <th>3</th>\n",
       "      <td>2015-09-01</td>\n",
       "      <td>9</td>\n",
       "      <td>N</td>\n",
       "      <td>N</td>\n",
       "      <td>30503</td>\n",
       "      <td>Moisturisers</td>\n",
       "      <td>VITA</td>\n",
       "      <td>199000.0</td>\n",
       "      <td>7.068966</td>\n",
       "      <td>0.007692</td>\n",
       "      <td>22.307692</td>\n",
       "      <td>3.148783</td>\n",
       "      <td>15.593194</td>\n",
       "    </tr>\n",
       "    <tr>\n",
       "      <th>4</th>\n",
       "      <td>2015-09-01</td>\n",
       "      <td>9</td>\n",
       "      <td>N</td>\n",
       "      <td>N</td>\n",
       "      <td>42924</td>\n",
       "      <td>Treatments</td>\n",
       "      <td>VITA</td>\n",
       "      <td>249000.0</td>\n",
       "      <td>0.000000</td>\n",
       "      <td>0.024000</td>\n",
       "      <td>0.800000</td>\n",
       "      <td>0.587787</td>\n",
       "      <td>5.203983</td>\n",
       "    </tr>\n",
       "  </tbody>\n",
       "</table>\n",
       "</div>"
      ],
      "text/plain": [
       "         date  month weekend holiday  prod_id prod_function prod_regime  \\\n",
       "0  2015-09-01      9       N       N    25742         Other        ALOE   \n",
       "1  2015-09-01      9       N       N    41906  Moisturisers        VITA   \n",
       "2  2015-09-01      9       N       N    30470  Moisturisers        VITA   \n",
       "3  2015-09-01      9       N       N    30503  Moisturisers        VITA   \n",
       "4  2015-09-01      9       N       N    42924    Treatments        VITA   \n",
       "\n",
       "   prod_listprice  discount  stockout      sales  log_sales  predicted_sales  \n",
       "0        129000.0  0.000000  0.991525   0.000000   0.000000        -0.503398  \n",
       "1        179000.0  7.307671  0.007634  39.694656   3.706097        16.631308  \n",
       "2        129000.0  0.000000  1.000000   0.000000   0.000000        -0.111748  \n",
       "3        199000.0  7.068966  0.007692  22.307692   3.148783        15.593194  \n",
       "4        249000.0  0.000000  0.024000   0.800000   0.587787         5.203983  "
      ]
     },
     "execution_count": 18,
     "metadata": {},
     "output_type": "execute_result"
    }
   ],
   "source": [
    "data['predicted_sales'] = model_log.fittedvalues.map(lambda x: np.exp(x)-1)\n",
    "data.head()"
   ]
  },
  {
   "cell_type": "markdown",
   "metadata": {},
   "source": [
    "#### Q3b. Plot a scatterplot of the true *sales*  and the predicted sales of the log model in Q2."
   ]
  },
  {
   "cell_type": "code",
   "execution_count": 19,
   "metadata": {},
   "outputs": [
    {
     "data": {
      "image/png": "[encoded data removed]",
      "text/plain": [
       "<Figure size 720x432 with 1 Axes>"
      ]
     },
     "metadata": {
      "needs_background": "light"
     },
     "output_type": "display_data"
    }
   ],
   "source": [
    "plt.figure(figsize=(10,6))\n",
    "sns.scatterplot(x='sales',y='predicted_sales',data=data)\n",
    "plt.title(\"Log Model: Sales vs Predicted Sales\")\n",
    "plt.xlabel('Sales')\n",
    "plt.ylabel('Predicted Sales')\n",
    "plt.tight_layout()\n",
    "plt.show()"
   ]
  },
  {
   "cell_type": "markdown",
   "metadata": {},
   "source": [
    "#### Q3c. For the log model in Q2, what is the equivalent of RSS and R2 measured on the original *sales* variable instead of *log(1+sales)*?"
   ]
  },
  {
   "cell_type": "markdown",
   "metadata": {},
   "source": [
    "Hint: You can simply calculate RSS and R2 using the predicted sales in Q3a. When calculating R2, check the alternative definitions in the slides."
   ]
  },
  {
   "cell_type": "code",
   "execution_count": 20,
   "metadata": {},
   "outputs": [
    {
     "name": "stdout",
     "output_type": "stream",
     "text": [
      "The RSS value for predicted sales is 4385773.473317225.\n",
      "The R-squared value for predicted sales is 0.21225318766979884.\n"
     ]
    }
   ],
   "source": [
    "y_bar = np.mean(data['sales'])\n",
    "TSS = np.sum(np.square(data['sales']-y_bar))\n",
    "RSS3 = np.sum(np.square(data['sales']-data['predicted_sales']))\n",
    "\n",
    "R_square3 = 1-(RSS3/TSS)\n",
    "\n",
    "print(\"The RSS value for predicted sales is \"+str(RSS3)+\".\")\n",
    "print(\"The R-squared value for predicted sales is \"+str(R_square3)+\".\")"
   ]
  },
  {
   "cell_type": "markdown",
   "metadata": {},
   "source": [
    "#### Q3d. How do the numbers in Q3c compared to those of the linear model? Which model is better?"
   ]
  },
  {
   "cell_type": "markdown",
   "metadata": {},
   "source": [
    "The RSS value for the log model in Q3c is **4385773.47**, which is higher than the RSS value of **4021684.84** for the linear model. This tells us that the variation in sales not explained by the log model is larger than the variation in sales not explained by the linear model. Since a larger variation in sales can be explained by the linear model compared to the log model, the linear model is better for predicting sales when comparing RSS value of both models.\n",
    "\n",
    "The R-squared value for the log model in Q3c is **0.212**, which is lower than the R-squared value of **0.278** for the linear model. This indicates that 27.8% of variation in the sales can be explained by the linear model, compared to 21.2% of variation in sales being explained by the log model. Since there is a larger fraction of variation in sales explained by the linear model compared to the log model (using the same predictors), the linear model is also a better model for predicting sales when we compare the R-squared value of both models."
   ]
  }
 ],
 "metadata": {
  "kernelspec": {
   "display_name": "Python 3",
   "language": "python",
   "name": "python3"
  },
  "language_info": {
   "codemirror_mode": {
    "name": "ipython",
    "version": 3
   },
   "file_extension": ".py",
   "mimetype": "text/x-python",
   "name": "python",
   "nbconvert_exporter": "python",
   "pygments_lexer": "ipython3",
   "version": "3.7.0"
  }
 },
 "nbformat": 4,
 "nbformat_minor": 2
}
