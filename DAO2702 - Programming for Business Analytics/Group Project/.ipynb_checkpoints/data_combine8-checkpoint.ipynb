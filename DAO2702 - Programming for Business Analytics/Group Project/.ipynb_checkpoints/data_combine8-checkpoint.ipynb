{
 "cells": [
  {
   "cell_type": "markdown",
   "metadata": {},
   "source": [
    "## Import Packages"
   ]
  },
  {
   "cell_type": "code",
   "execution_count": 1,
   "metadata": {},
   "outputs": [
    {
     "data": {
      "text/plain": [
       "'C:\\\\Users\\\\Kai Jing\\\\Desktop\\\\NUS\\\\Business (Accountancy)\\\\NUS BAC\\\\Sem 2.1\\\\DAO2702 - Programming for Business Analytics\\\\Group Project\\\\data2'"
      ]
     },
     "execution_count": 1,
     "metadata": {},
     "output_type": "execute_result"
    }
   ],
   "source": [
    "import os\n",
    "import pandas as pd, numpy as np, matplotlib.pyplot as plt, statsmodels.formula.api as smf\n",
    "import seaborn as sns\n",
    "os.getcwd()"
   ]
  },
  {
   "cell_type": "markdown",
   "metadata": {},
   "source": [
    "## Merging Data"
   ]
  },
  {
   "cell_type": "code",
   "execution_count": null,
   "metadata": {
    "scrolled": false
   },
   "outputs": [],
   "source": [
    "df = pd.read_csv(\"January 2017.csv\")\n",
    "remaining_months = ['February','March','April','May','June','July','August','September','October','November','December']\n",
    "\n",
    "for i in remaining_months:\n",
    "    file_name = str(i) + ' 2017.csv'\n",
    "    df_add = pd.read_csv(file_name)\n",
    "    df = pd.concat([df,df_add])\n",
    "df.reset_index(drop=True,inplace=True)\n",
    "df"
   ]
  },
  {
   "cell_type": "markdown",
   "metadata": {},
   "source": [
    "## Selecting data variables to analyze"
   ]
  },
  {
   "cell_type": "code",
   "execution_count": null,
   "metadata": {
    "scrolled": true
   },
   "outputs": [],
   "source": [
    "col_update = ['amenities','bathrooms','beds','calendar_last_scraped','id','monthly_price','neighbourhood_cleansed','price','property_type','review_scores_communication','review_scores_location','review_scores_rating','review_scores_value','room_type']\n",
    "# len(col_update)\n",
    "data = df['accommodates']\n",
    "for i in col_update:\n",
    "    data = pd.concat([data,df[i]],axis=1)"
   ]
  },
  {
   "cell_type": "markdown",
   "metadata": {},
   "source": [
    "## Checking empty cells"
   ]
  },
  {
   "cell_type": "code",
   "execution_count": null,
   "metadata": {
    "scrolled": true
   },
   "outputs": [],
   "source": [
    "data.isna().sum()"
   ]
  },
  {
   "cell_type": "markdown",
   "metadata": {},
   "source": [
    "## Dropping rows with NaN data (missing data)"
   ]
  },
  {
   "cell_type": "code",
   "execution_count": null,
   "metadata": {
    "scrolled": true
   },
   "outputs": [],
   "source": [
    "df_col = list(data.columns)\n",
    "# df_col, len(df_col)\n",
    "for i in df_col:\n",
    "    data = data[data[i].notna()]\n",
    "data.isna().sum()"
   ]
  },
  {
   "cell_type": "code",
   "execution_count": null,
   "metadata": {
    "scrolled": false
   },
   "outputs": [],
   "source": [
    "data.reset_index(drop=True,inplace=True)\n",
    "data"
   ]
  },
  {
   "cell_type": "markdown",
   "metadata": {},
   "source": [
    "## Creating average review score base on the review scores of communication, location, rating and value"
   ]
  },
  {
   "cell_type": "code",
   "execution_count": null,
   "metadata": {},
   "outputs": [],
   "source": [
    "data['review_scores_rating'] = data['review_scores_rating'].apply(lambda x: x/10)\n",
    "data['review_score_average'] = data[['review_scores_communication','review_scores_location','review_scores_rating','review_scores_value']].mean(axis=1)\n",
    "data.drop(['review_scores_communication','review_scores_location','review_scores_rating','review_scores_value'],inplace=True,axis=1)"
   ]
  },
  {
   "cell_type": "markdown",
   "metadata": {},
   "source": [
    "## Converting prices to integers"
   ]
  },
  {
   "cell_type": "code",
   "execution_count": null,
   "metadata": {},
   "outputs": [],
   "source": [
    "data['price'] = data['price'].apply(lambda x: x.replace(',',''))\n",
    "data['price'] = data['price'].apply(lambda x: int(x[1:-3]))\n",
    "data['monthly_price'] = data['monthly_price'].apply(lambda x: x.replace(',',''))\n",
    "data['monthly_price'] = data['monthly_price'].apply(lambda x: int(x[1:-3]))"
   ]
  },
  {
   "cell_type": "markdown",
   "metadata": {},
   "source": [
    "##  Creating amenities count"
   ]
  },
  {
   "cell_type": "code",
   "execution_count": null,
   "metadata": {},
   "outputs": [],
   "source": [
    "data['amenities_count'] = data['amenities'].str.split(',').apply(lambda x: len(x))\n",
    "data.drop('amenities',inplace=True,axis=1)"
   ]
  },
  {
   "cell_type": "markdown",
   "metadata": {},
   "source": [
    "## Extracting month of data extracted"
   ]
  },
  {
   "cell_type": "code",
   "execution_count": null,
   "metadata": {},
   "outputs": [],
   "source": [
    "data['calendar_last_scraped'] = pd.to_datetime(data['calendar_last_scraped'], format='%Y-%m-%d')\n",
    "data['month_scraped'] = data['calendar_last_scraped'].dt.strftime('%b')\n",
    "data.drop('calendar_last_scraped',inplace=True,axis=1)"
   ]
  },
  {
   "cell_type": "code",
   "execution_count": null,
   "metadata": {},
   "outputs": [],
   "source": [
    "# Checking for correctness of amenities_count\n",
    "# for i in range(len(data)):\n",
    "#     data.loc[i,'amenities_count2'] = len(data['amenities'][i].split(','))\n",
    "# print(sum(data['amenities_count'] == data['amenities_count2']))\n",
    "# data.drop('amenities_count2',inplace=True,axis=1)"
   ]
  },
  {
   "cell_type": "markdown",
   "metadata": {},
   "source": [
    "## Further data cleaning"
   ]
  },
  {
   "cell_type": "code",
   "execution_count": null,
   "metadata": {},
   "outputs": [],
   "source": [
    "#group by id\n",
    "data_by_id = data.groupby('id')\n",
    "\n",
    "#finding means of numerical variables\n",
    "data2 = data_by_id[['price']].mean()\n",
    "data2['mean_monthly_price'] = data_by_id[['monthly_price']].mean()\n",
    "data2['mean_amenities'] = data_by_id[['amenities_count']].mean()\n",
    "data2['mean_accommodates'] = data_by_id[['accommodates']].mean()\n",
    "data2['mean_bathrooms'] = data_by_id[['bathrooms']].mean()\n",
    "data2['mean_beds'] = data_by_id[['beds']].mean()\n",
    "data2['mean_reviews'] = data_by_id[['review_score_average']].mean()\n",
    "\n",
    "#extracting last month of catergorical variables\n",
    "data2['neighbourhood'] = data_by_id[['neighbourhood_cleansed']].last()\n",
    "data2['property_type'] = data_by_id[['property_type']].last()\n",
    "data2['room_type'] = data_by_id[['room_type']].last()\n",
    "\n",
    "data2.reset_index(inplace=True)\n",
    "data2.head()"
   ]
  },
  {
   "cell_type": "code",
   "execution_count": null,
   "metadata": {},
   "outputs": [],
   "source": [
    "data2.to_csv('data.csv',index=False)"
   ]
  },
  {
   "cell_type": "markdown",
   "metadata": {},
   "source": [
    "## Backward Stepwise Model"
   ]
  },
  {
   "cell_type": "code",
   "execution_count": null,
   "metadata": {},
   "outputs": [],
   "source": [
    "def back_sel(data, y, current_predictors):\n",
    "    #print(len(current_predictors), current_predictors)\n",
    "    aic_k_best = 1e+8\n",
    "    for predictor_to_remove in current_predictors:\n",
    "        new_predictors = current_predictors.copy()\n",
    "        new_predictors.remove(predictor_to_remove)\n",
    "        if new_predictors:\n",
    "            formula = y + ' ~ ' + ' + '.join(new_predictors)\n",
    "        else:\n",
    "            formula = y + ' ~ 1'\n",
    "        model = smf.ols(formula, data=data).fit()\n",
    "        #print('\\t', model.aic, new_predictors)\n",
    "        if model.aic <= aic_k_best:\n",
    "            aic_k_best = model.aic\n",
    "            model_k_best = model\n",
    "            predictors_k_best = new_predictors\n",
    "    #print('best: ', model_k_best.aic, predictors_k_best)\n",
    "    return model_k_best, predictors_k_best"
   ]
  },
  {
   "cell_type": "code",
   "execution_count": null,
   "metadata": {},
   "outputs": [],
   "source": [
    "current_predictors = set(list(data2.columns))\n",
    "current_predictors.remove('id')\n",
    "current_predictors.remove('price')\n",
    "model_full = smf.ols('price ~ ' + ' + '.join(current_predictors), data=data2).fit()\n",
    "aic_bwd = model_full.aic\n",
    "model_bwd = model_full\n",
    "predictors_bwd = current_predictors"
   ]
  },
  {
   "cell_type": "code",
   "execution_count": null,
   "metadata": {
    "scrolled": true
   },
   "outputs": [],
   "source": [
    "while len(current_predictors) > 0:\n",
    "    model, current_predictors = back_sel(data2, 'price', current_predictors)\n",
    "    print(len(current_predictors), model.aic, current_predictors)\n",
    "    if model.aic <= aic_bwd:\n",
    "        aic_bwd = model.aic\n",
    "        model_bwd = model\n",
    "        predictors_bwd = current_predictors\n",
    "print('Best Model: ', model_bwd.aic, predictors_bwd)"
   ]
  },
  {
   "cell_type": "code",
   "execution_count": null,
   "metadata": {},
   "outputs": [],
   "source": [
    "model_bwd.summary()"
   ]
  },
  {
   "cell_type": "code",
   "execution_count": null,
   "metadata": {},
   "outputs": [],
   "source": [
    "data2[list(predictors_bwd)].corr()"
   ]
  },
  {
   "cell_type": "markdown",
   "metadata": {},
   "source": [
    "## Forward Stepwise Model"
   ]
  },
  {
   "cell_type": "code",
   "execution_count": null,
   "metadata": {
    "scrolled": false
   },
   "outputs": [],
   "source": [
    "def forward_selection(data, y, predictors, current_predictors):\n",
    "    #print(len(current_predictors), current_predictors)\n",
    "    aic_k_best = 1e+8\n",
    "    for predictor_to_add in (predictors - current_predictors):\n",
    "        new_predictors = current_predictors.copy()\n",
    "        new_predictors.add(predictor_to_add)\n",
    "        formula = y + ' ~ ' + ' + '.join(new_predictors)\n",
    "        model = smf.ols(formula, data=data).fit()\n",
    "        #print('\\t', model.aic, new_predictors)\n",
    "        if model.aic <= aic_k_best:\n",
    "            aic_k_best = model.aic\n",
    "            model_k_best = model\n",
    "            predictors_k_best = new_predictors\n",
    "    #print('best: ', model_k_best.aic, predictors_k_best)\n",
    "    return model_k_best, predictors_k_best\n",
    "\n",
    "# Step 1: start with Model 0\n",
    "predictors = set(list(data2.columns))\n",
    "predictors.remove('id')\n",
    "predictors.remove('price')\n",
    "current_predictors = set()\n",
    "model_0 = smf.ols('price ~ 1', data=data2).fit()\n",
    "aic_fwd = model_0.aic\n",
    "model_fwd = model_0\n",
    "predictors_fwd = current_predictors\n",
    "# Step 2: iteratively add predictor one by one\n",
    "\n",
    "while len(current_predictors) < len(predictors):\n",
    "    model, current_predictors = forward_selection(data2, 'price', predictors, current_predictors)\n",
    "    print(len(current_predictors), model.aic, current_predictors)\n",
    "    if model.aic <= aic_fwd:\n",
    "        aic_fwd = model.aic\n",
    "        model_fwd = model\n",
    "        predictors_fwd = current_predictors\n",
    "print('Best Model: ', model_fwd.aic, predictors_fwd)"
   ]
  },
  {
   "cell_type": "markdown",
   "metadata": {},
   "source": [
    "## Checking for multicollinearity "
   ]
  },
  {
   "cell_type": "code",
   "execution_count": null,
   "metadata": {},
   "outputs": [],
   "source": [
    "data2[list(predictors_fwd)].corr()"
   ]
  },
  {
   "cell_type": "code",
   "execution_count": null,
   "metadata": {},
   "outputs": [],
   "source": [
    "model_fwd.summary()"
   ]
  },
  {
   "cell_type": "markdown",
   "metadata": {},
   "source": [
    "## Best Subset Model"
   ]
  },
  {
   "cell_type": "code",
   "execution_count": null,
   "metadata": {},
   "outputs": [],
   "source": [
    "data2_predictors = list(data2.columns)\n",
    "data2_predictors.remove('price')\n",
    "data2_predictors.remove('id')\n",
    "p = len(data2_predictors)\n",
    "import itertools\n",
    "def best_subset(data, y, predictors, k):\n",
    "    if k == 0:\n",
    "        predictors_k_best = set()\n",
    "        model_k_best = smf.ols(y + ' ~ 1', data=data).fit()\n",
    "    else:\n",
    "        aic_k_best = 1e+8\n",
    "        for predictor_set in itertools.combinations(predictors, k):\n",
    "            formula_k = y + ' ~ ' + ' + '.join(predictor_set)\n",
    "            model_k = smf.ols(formula_k, data=data).fit()\n",
    "            #print('\\t', model_k.aic, predictor_set)\n",
    "            if model_k.aic <= aic_k_best:\n",
    "                aic_k_best = model_k.aic\n",
    "                model_k_best = model_k\n",
    "                predictors_k_best = predictor_set\n",
    "    return model_k_best, predictors_k_best"
   ]
  },
  {
   "cell_type": "code",
   "execution_count": null,
   "metadata": {},
   "outputs": [],
   "source": [
    "aic_best = 1e+8\n",
    "for k in range(0, p+1, 1):\n",
    "    model_k, predictors_k = best_subset(data2, 'price', data2_predictors, k)\n",
    "    print(k, model_k.aic, predictors_k)\n",
    "    if model_k.aic <= aic_best:\n",
    "        aic_best = model_k.aic\n",
    "        k_best = k\n",
    "        model_best = model_k\n",
    "        predictors_best = predictors_k\n",
    "print('Best Model: ', k_best, model_best.aic, predictors_best)"
   ]
  },
  {
   "cell_type": "code",
   "execution_count": null,
   "metadata": {},
   "outputs": [],
   "source": [
    "model_best.summary()"
   ]
  },
  {
   "cell_type": "code",
   "execution_count": null,
   "metadata": {},
   "outputs": [],
   "source": [
    "data2[list(predictors_best)].corr()"
   ]
  },
  {
   "cell_type": "markdown",
   "metadata": {},
   "source": [
    "## Removing variable with multicollinearity"
   ]
  },
  {
   "cell_type": "code",
   "execution_count": null,
   "metadata": {
    "scrolled": true
   },
   "outputs": [],
   "source": [
    "data2.drop('mean_beds',inplace=True,axis=1)\n",
    "data2.head()"
   ]
  },
  {
   "cell_type": "markdown",
   "metadata": {},
   "source": [
    "## Running Best Subset Model again"
   ]
  },
  {
   "cell_type": "code",
   "execution_count": null,
   "metadata": {},
   "outputs": [],
   "source": [
    "data2_predictors = list(data2.columns)\n",
    "data2_predictors.remove('price')\n",
    "data2_predictors.remove('id')\n",
    "p = len(data2_predictors)\n",
    "import itertools\n",
    "def best_subset(data, y, predictors, k):\n",
    "    if k == 0:\n",
    "        predictors_k_best = set()\n",
    "        model_k_best = smf.ols(y + ' ~ 1', data=data).fit()\n",
    "    else:\n",
    "        aic_k_best = 1e+8\n",
    "        for predictor_set in itertools.combinations(predictors, k):\n",
    "            formula_k = y + ' ~ ' + ' + '.join(predictor_set)\n",
    "            model_k = smf.ols(formula_k, data=data).fit()\n",
    "            #print('\\t', model_k.aic, predictor_set)\n",
    "            if model_k.aic <= aic_k_best:\n",
    "                aic_k_best = model_k.aic\n",
    "                model_k_best = model_k\n",
    "                predictors_k_best = predictor_set\n",
    "    return model_k_best, predictors_k_best\n",
    "\n",
    "aic_best = 1e+8\n",
    "for k in range(0, p+1, 1):\n",
    "    model_k, predictors_k = best_subset(data2, 'price', data2_predictors, k)\n",
    "    print(k, model_k.aic, predictors_k)\n",
    "    if model_k.aic <= aic_best:\n",
    "        aic_best = model_k.aic\n",
    "        k_best = k\n",
    "        model_best = model_k\n",
    "        predictors_best = predictors_k\n",
    "print('Best Model: ', k_best, model_best.aic, predictors_best)"
   ]
  },
  {
   "cell_type": "code",
   "execution_count": null,
   "metadata": {},
   "outputs": [],
   "source": [
    "model_best.summary()"
   ]
  },
  {
   "cell_type": "code",
   "execution_count": null,
   "metadata": {},
   "outputs": [],
   "source": [
    "data2[list(predictors_best)].corr()"
   ]
  },
  {
   "cell_type": "markdown",
   "metadata": {},
   "source": [
    "# Comparing price and numerical predictors "
   ]
  },
  {
   "cell_type": "markdown",
   "metadata": {},
   "source": [
    "### Price per Amenity "
   ]
  },
  {
   "cell_type": "code",
   "execution_count": null,
   "metadata": {
    "scrolled": false
   },
   "outputs": [],
   "source": [
    "data2['mean_bathrooms'].replace(0,np.nan,inplace=True)\n",
    "data2 = data2[data2['mean_bathrooms'].notna()].reset_index(drop=True)\n",
    "data2"
   ]
  },
  {
   "cell_type": "code",
   "execution_count": null,
   "metadata": {
    "scrolled": false
   },
   "outputs": [],
   "source": [
    "data2['price_per_amenity'] = data2['price'] / data2['mean_amenities']\n",
    "data2"
   ]
  },
  {
   "cell_type": "markdown",
   "metadata": {},
   "source": [
    "#### Rank top 10 neighbourhood by Price per Amenity "
   ]
  },
  {
   "cell_type": "code",
   "execution_count": null,
   "metadata": {},
   "outputs": [],
   "source": [
    "rank_amenities = (data2.groupby('neighbourhood')['price_per_amenity'].mean()).sort_values()\n",
    "rank_amenities = rank_amenities.to_frame().reset_index()\n",
    "rank_amenities['amenity_rank'] = rank_amenities['neighbourhood'].apply(lambda x: '')\n",
    "for i in range(len(rank_amenities)):\n",
    "    rank_amenities['amenity_rank'][i] = 22 - i\n",
    "rank_amenities"
   ]
  },
  {
   "cell_type": "code",
   "execution_count": null,
   "metadata": {},
   "outputs": [],
   "source": [
    "sns.regplot(x='mean_amenities', y='price', data=data2)\n",
    "plt.ylim(0,2250)"
   ]
  },
  {
   "cell_type": "code",
   "execution_count": null,
   "metadata": {},
   "outputs": [],
   "source": [
    "# Plot Neighbourhood against Price per Amenity\n",
    "plt.figure(figsize=(15,10))\n",
    "plt.bar(rank_amenities['neighbourhood'],rank_amenities['price_per_amenity'])\n",
    "plt.title(\"Price per Amenity in each Neighbourhood\")\n",
    "plt.xlabel('Neighbourhood')\n",
    "plt.ylabel('Price per Amenity')\n",
    "plt.xticks(rotation=90)\n",
    "plt.tight_layout()\n",
    "plt.show()"
   ]
  },
  {
   "cell_type": "markdown",
   "metadata": {},
   "source": [
    "### Price per Accommodates"
   ]
  },
  {
   "cell_type": "code",
   "execution_count": null,
   "metadata": {
    "scrolled": false
   },
   "outputs": [],
   "source": [
    "data2['price_per_accommodates'] = data2['price'] / data2['mean_accommodates']\n",
    "data2[['price_per_accommodates']]"
   ]
  },
  {
   "cell_type": "markdown",
   "metadata": {},
   "source": [
    "#### Rank top 10 neighbourhood by Price per Accommodates "
   ]
  },
  {
   "cell_type": "code",
   "execution_count": null,
   "metadata": {},
   "outputs": [],
   "source": [
    "rank_accommodates = (data2.groupby('neighbourhood')['price_per_accommodates']).mean().sort_values()\n",
    "rank_accommodates = rank_accommodates.to_frame().reset_index()\n",
    "rank_accommodates['accommodates_rank'] = rank_accommodates['neighbourhood'].apply(lambda x: '')\n",
    "for i in range(len(rank_accommodates)):\n",
    "    rank_accommodates['accommodates_rank'][i] = 22 - i\n",
    "rank_accommodates"
   ]
  },
  {
   "cell_type": "code",
   "execution_count": null,
   "metadata": {},
   "outputs": [],
   "source": [
    "sns.regplot(x='mean_accommodates', y='price', data=data2)"
   ]
  },
  {
   "cell_type": "code",
   "execution_count": null,
   "metadata": {},
   "outputs": [],
   "source": [
    "# Plot Neighbourhood against Price per Accommodates\n",
    "plt.figure(figsize=(15,10))\n",
    "plt.bar(rank_accommodates['neighbourhood'],rank_accommodates['price_per_accommodates'])\n",
    "plt.title(\"Price per Accommodates in each Neighbourhood\")\n",
    "plt.xlabel('Neighbourhood')\n",
    "plt.ylabel('Price per Accommodates')\n",
    "plt.xticks(rotation=90)\n",
    "plt.tight_layout()\n",
    "plt.show()"
   ]
  },
  {
   "cell_type": "markdown",
   "metadata": {},
   "source": [
    "### Price per bathroom"
   ]
  },
  {
   "cell_type": "code",
   "execution_count": null,
   "metadata": {
    "scrolled": false
   },
   "outputs": [],
   "source": [
    "data2['price_per_bathroom'] = data2['price'] / data2['mean_bathrooms']\n",
    "data2[['price_per_bathroom']]"
   ]
  },
  {
   "cell_type": "markdown",
   "metadata": {},
   "source": [
    "#### Rank top 10 neighbourhood by Price per Bathroom"
   ]
  },
  {
   "cell_type": "code",
   "execution_count": null,
   "metadata": {},
   "outputs": [],
   "source": [
    "rank_bathrooms = (data2.groupby('neighbourhood')['price_per_bathroom'].mean()).sort_values()\n",
    "rank_bathrooms = rank_bathrooms.to_frame().reset_index()\n",
    "rank_bathrooms['bathrooms_rank'] = rank_bathrooms['neighbourhood'].apply(lambda x: '')\n",
    "for i in range(len(rank_bathrooms)):\n",
    "    rank_bathrooms['bathrooms_rank'][i] = 22 - i\n",
    "rank_bathrooms"
   ]
  },
  {
   "cell_type": "code",
   "execution_count": null,
   "metadata": {},
   "outputs": [],
   "source": [
    "sns.regplot(x='mean_bathrooms', y='price', data=data2)"
   ]
  },
  {
   "cell_type": "code",
   "execution_count": null,
   "metadata": {},
   "outputs": [],
   "source": [
    "# Plot Neighbourhood against Price per Bathroom\n",
    "plt.figure(figsize=(15,10))\n",
    "plt.bar(rank_bathrooms['neighbourhood'],rank_bathrooms['price_per_bathroom'])\n",
    "plt.title(\"Price per Bathroom in each Neighbourhood\")\n",
    "plt.xlabel('Neighbourhood')\n",
    "plt.ylabel('Price per Bathroom')\n",
    "plt.xticks(rotation=90)\n",
    "plt.tight_layout()\n",
    "plt.show()"
   ]
  },
  {
   "cell_type": "markdown",
   "metadata": {},
   "source": [
    "### Price vs Review Score"
   ]
  },
  {
   "cell_type": "code",
   "execution_count": null,
   "metadata": {},
   "outputs": [],
   "source": [
    "print(type(data2['mean_reviews'][1]))"
   ]
  },
  {
   "cell_type": "code",
   "execution_count": null,
   "metadata": {},
   "outputs": [],
   "source": [
    "# rank_review = (data2.groupby('neighbourhood')['mean_reviews']).count('10.000000')\n",
    "# # .filter(lambda x: int(x)>9.99999)\n",
    "# # rank_review['number of max review score'] = rank_review['neighbourhood'][:191].value_counts()\n",
    "# rank_review\n",
    "rank_review = data2[['neighbourhood', 'mean_reviews']].sort_values('mean_reviews', ascending=False).reset_index(drop=True)\n",
    "rank_review['mean_reviews'] = rank_review['mean_reviews'].apply(lambda x: float(x))\n",
    "rank_review = rank_review[rank_review['mean_reviews']>9.4]\n",
    "rank_review = rank_review['neighbourhood'].value_counts().to_frame(name='max_review_count').reset_index()\n",
    "rank_review.columns = ['neighbourhood', 'max_review_count']\n",
    "rank_review['review_rank'] = rank_review['max_review_count'].apply(lambda x: '')\n",
    "for i in range(len(rank_review)):\n",
    "    rank_review['review_rank'][i] = 22 - i\n",
    "rank_review"
   ]
  },
  {
   "cell_type": "code",
   "execution_count": null,
   "metadata": {},
   "outputs": [],
   "source": []
  },
  {
   "cell_type": "markdown",
   "metadata": {},
   "source": [
    "### Ranking of Neighbourhood"
   ]
  },
  {
   "cell_type": "code",
   "execution_count": null,
   "metadata": {},
   "outputs": [],
   "source": [
    "overall_rank = rank_accommodates[['neighbourhood','accommodates_rank']]\n",
    "overall_rank = pd.merge(overall_rank, rank_amenities[['neighbourhood','amenity_rank']],on='neighbourhood')\n",
    "overall_rank = pd.merge(overall_rank, rank_bathrooms[['neighbourhood', 'bathrooms_rank']],on = 'neighbourhood')\n",
    "overall_rank = pd.merge(overall_rank, rank_review[['neighbourhood','review_rank']],on='neighbourhood',how='outer')\n",
    "overall_rank['review_rank'].fillna(5, inplace=True)\n",
    "overall_rank['overall_ranking'] = overall_rank.loc[:,'accommodates_rank':'review_rank'].sum(axis=1)\n",
    "overall_rank = overall_rank.sort_values('overall_ranking',ascending=False).reset_index(drop=True) \n",
    "overall_rank"
   ]
  },
  {
   "cell_type": "markdown",
   "metadata": {},
   "source": [
    "### Top 3 Neighbourhoods"
   ]
  },
  {
   "cell_type": "code",
   "execution_count": null,
   "metadata": {},
   "outputs": [],
   "source": [
    "top_neighbourhood = overall_rank.loc[0,'neighbourhood']\n",
    "second_neighbourhood = overall_rank.loc[1,'neighbourhood']\n",
    "third_neighbourhood = overall_rank.loc[2,'neighbourhood']\n",
    "\n",
    "f, axarr = plt.subplots(1,3, sharey=True)\n",
    "axarr[0].boxplot(data2.loc[data2['neighbourhood'] == top_neighbourhood, 'price'])\n",
    "axarr[0].set_xlabel(top_neighbourhood)\n",
    "axarr[0].set_xticks([])\n",
    "axarr[1].boxplot(data2.loc[data2['neighbourhood'] == second_neighbourhood, 'price'])\n",
    "axarr[1].set_xlabel(second_neighbourhood)\n",
    "axarr[1].set_xticks([])\n",
    "axarr[1].set_title('Prices of Top 3 Neighbourhoods')\n",
    "axarr[2].boxplot(data2.loc[data2['neighbourhood'] == third_neighbourhood, 'price'])\n",
    "axarr[2].set_xlabel(third_neighbourhood)\n",
    "axarr[2].set_xticks([])"
   ]
  },
  {
   "cell_type": "code",
   "execution_count": null,
   "metadata": {},
   "outputs": [],
   "source": [
    "data3 = data2.groupby('neighbourhood')['price'].mean().to_frame(name='mean_price').reset_index()\n",
    "plt.figure(figsize=(15,10))\n",
    "\n",
    "plt.bar(data3.iloc[:,0],data3.iloc[:,1])\n",
    "plt.title(\"Average Price in each Neighbourhood\")\n",
    "plt.xlabel('Neighbourhood')\n",
    "plt.ylabel('Average Price')\n",
    "plt.xticks(rotation=90)\n",
    "plt.tight_layout()\n",
    "plt.show()"
   ]
  }
 ],
 "metadata": {
  "kernelspec": {
   "display_name": "Python 3",
   "language": "python",
   "name": "python3"
  },
  "language_info": {
   "codemirror_mode": {
    "name": "ipython",
    "version": 3
   },
   "file_extension": ".py",
   "mimetype": "text/x-python",
   "name": "python",
   "nbconvert_exporter": "python",
   "pygments_lexer": "ipython3",
   "version": "3.7.0"
  }
 },
 "nbformat": 4,
 "nbformat_minor": 2
}
